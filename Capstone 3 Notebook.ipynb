{
 "cells": [
  {
   "cell_type": "code",
   "execution_count": 1,
   "metadata": {},
   "outputs": [],
   "source": [
    "import pandas as pd\n",
    "import matplotlib.pyplot as plt\n",
    "import seaborn as sns\n",
    "import numpy as np\n",
    "from scipy import stats\n",
    "import random"
   ]
  },
  {
   "cell_type": "markdown",
   "metadata": {},
   "source": [
    "# Data Wrangling"
   ]
  },
  {
   "cell_type": "markdown",
   "metadata": {},
   "source": [
    "First, I need to read in the different individual csv files downloaded from the FRED Database and assign Column Names."
   ]
  },
  {
   "cell_type": "code",
   "execution_count": 2,
   "metadata": {},
   "outputs": [
    {
     "data": {
      "text/html": [
       "<div>\n",
       "<style scoped>\n",
       "    .dataframe tbody tr th:only-of-type {\n",
       "        vertical-align: middle;\n",
       "    }\n",
       "\n",
       "    .dataframe tbody tr th {\n",
       "        vertical-align: top;\n",
       "    }\n",
       "\n",
       "    .dataframe thead th {\n",
       "        text-align: right;\n",
       "    }\n",
       "</style>\n",
       "<table border=\"1\" class=\"dataframe\">\n",
       "  <thead>\n",
       "    <tr style=\"text-align: right;\">\n",
       "      <th></th>\n",
       "      <th>Date</th>\n",
       "      <th>Min Wage</th>\n",
       "    </tr>\n",
       "  </thead>\n",
       "  <tbody>\n",
       "    <tr>\n",
       "      <th>0</th>\n",
       "      <td>1967-10-01</td>\n",
       "      <td>1.40</td>\n",
       "    </tr>\n",
       "    <tr>\n",
       "      <th>1</th>\n",
       "      <td>1968-01-01</td>\n",
       "      <td>1.60</td>\n",
       "    </tr>\n",
       "    <tr>\n",
       "      <th>2</th>\n",
       "      <td>1968-04-01</td>\n",
       "      <td>1.60</td>\n",
       "    </tr>\n",
       "    <tr>\n",
       "      <th>3</th>\n",
       "      <td>1968-07-01</td>\n",
       "      <td>1.60</td>\n",
       "    </tr>\n",
       "    <tr>\n",
       "      <th>4</th>\n",
       "      <td>1968-10-01</td>\n",
       "      <td>1.60</td>\n",
       "    </tr>\n",
       "    <tr>\n",
       "      <th>...</th>\n",
       "      <td>...</td>\n",
       "      <td>...</td>\n",
       "    </tr>\n",
       "    <tr>\n",
       "      <th>210</th>\n",
       "      <td>2020-04-01</td>\n",
       "      <td>7.25</td>\n",
       "    </tr>\n",
       "    <tr>\n",
       "      <th>211</th>\n",
       "      <td>2020-07-01</td>\n",
       "      <td>7.25</td>\n",
       "    </tr>\n",
       "    <tr>\n",
       "      <th>212</th>\n",
       "      <td>2020-10-01</td>\n",
       "      <td>7.25</td>\n",
       "    </tr>\n",
       "    <tr>\n",
       "      <th>213</th>\n",
       "      <td>2021-01-01</td>\n",
       "      <td>7.25</td>\n",
       "    </tr>\n",
       "    <tr>\n",
       "      <th>214</th>\n",
       "      <td>2021-04-01</td>\n",
       "      <td>7.25</td>\n",
       "    </tr>\n",
       "  </tbody>\n",
       "</table>\n",
       "<p>215 rows × 2 columns</p>\n",
       "</div>"
      ],
      "text/plain": [
       "           Date  Min Wage\n",
       "0    1967-10-01      1.40\n",
       "1    1968-01-01      1.60\n",
       "2    1968-04-01      1.60\n",
       "3    1968-07-01      1.60\n",
       "4    1968-10-01      1.60\n",
       "..          ...       ...\n",
       "210  2020-04-01      7.25\n",
       "211  2020-07-01      7.25\n",
       "212  2020-10-01      7.25\n",
       "213  2021-01-01      7.25\n",
       "214  2021-04-01      7.25\n",
       "\n",
       "[215 rows x 2 columns]"
      ]
     },
     "execution_count": 2,
     "metadata": {},
     "output_type": "execute_result"
    }
   ],
   "source": [
    "min_wage = pd.read_csv('FedMinWage.csv')\n",
    "min_wage.columns = ['Date', 'Min Wage']\n",
    "min_wage"
   ]
  },
  {
   "cell_type": "code",
   "execution_count": 3,
   "metadata": {},
   "outputs": [
    {
     "data": {
      "text/html": [
       "<div>\n",
       "<style scoped>\n",
       "    .dataframe tbody tr th:only-of-type {\n",
       "        vertical-align: middle;\n",
       "    }\n",
       "\n",
       "    .dataframe tbody tr th {\n",
       "        vertical-align: top;\n",
       "    }\n",
       "\n",
       "    .dataframe thead th {\n",
       "        text-align: right;\n",
       "    }\n",
       "</style>\n",
       "<table border=\"1\" class=\"dataframe\">\n",
       "  <thead>\n",
       "    <tr style=\"text-align: right;\">\n",
       "      <th></th>\n",
       "      <th>Date</th>\n",
       "      <th>CPI</th>\n",
       "    </tr>\n",
       "  </thead>\n",
       "  <tbody>\n",
       "    <tr>\n",
       "      <th>0</th>\n",
       "      <td>1967-10-01</td>\n",
       "      <td>34.73361</td>\n",
       "    </tr>\n",
       "    <tr>\n",
       "      <th>1</th>\n",
       "      <td>1968-01-01</td>\n",
       "      <td>35.14344</td>\n",
       "    </tr>\n",
       "    <tr>\n",
       "      <th>2</th>\n",
       "      <td>1968-04-01</td>\n",
       "      <td>35.55328</td>\n",
       "    </tr>\n",
       "    <tr>\n",
       "      <th>3</th>\n",
       "      <td>1968-07-01</td>\n",
       "      <td>35.96311</td>\n",
       "    </tr>\n",
       "    <tr>\n",
       "      <th>4</th>\n",
       "      <td>1968-10-01</td>\n",
       "      <td>36.37295</td>\n",
       "    </tr>\n",
       "    <tr>\n",
       "      <th>...</th>\n",
       "      <td>...</td>\n",
       "      <td>...</td>\n",
       "    </tr>\n",
       "    <tr>\n",
       "      <th>210</th>\n",
       "      <td>2020-04-01</td>\n",
       "      <td>264.13627</td>\n",
       "    </tr>\n",
       "    <tr>\n",
       "      <th>211</th>\n",
       "      <td>2020-07-01</td>\n",
       "      <td>266.68033</td>\n",
       "    </tr>\n",
       "    <tr>\n",
       "      <th>212</th>\n",
       "      <td>2020-10-01</td>\n",
       "      <td>266.87910</td>\n",
       "    </tr>\n",
       "    <tr>\n",
       "      <th>213</th>\n",
       "      <td>2021-01-01</td>\n",
       "      <td>271.39037</td>\n",
       "    </tr>\n",
       "    <tr>\n",
       "      <th>214</th>\n",
       "      <td>2021-04-01</td>\n",
       "      <td>278.37705</td>\n",
       "    </tr>\n",
       "  </tbody>\n",
       "</table>\n",
       "<p>215 rows × 2 columns</p>\n",
       "</div>"
      ],
      "text/plain": [
       "           Date        CPI\n",
       "0    1967-10-01   34.73361\n",
       "1    1968-01-01   35.14344\n",
       "2    1968-04-01   35.55328\n",
       "3    1968-07-01   35.96311\n",
       "4    1968-10-01   36.37295\n",
       "..          ...        ...\n",
       "210  2020-04-01  264.13627\n",
       "211  2020-07-01  266.68033\n",
       "212  2020-10-01  266.87910\n",
       "213  2021-01-01  271.39037\n",
       "214  2021-04-01  278.37705\n",
       "\n",
       "[215 rows x 2 columns]"
      ]
     },
     "execution_count": 3,
     "metadata": {},
     "output_type": "execute_result"
    }
   ],
   "source": [
    "cpi = pd.read_csv('CPI.csv')\n",
    "cpi.columns = ['Date', 'CPI']\n",
    "cpi"
   ]
  },
  {
   "cell_type": "code",
   "execution_count": 4,
   "metadata": {},
   "outputs": [
    {
     "data": {
      "text/html": [
       "<div>\n",
       "<style scoped>\n",
       "    .dataframe tbody tr th:only-of-type {\n",
       "        vertical-align: middle;\n",
       "    }\n",
       "\n",
       "    .dataframe tbody tr th {\n",
       "        vertical-align: top;\n",
       "    }\n",
       "\n",
       "    .dataframe thead th {\n",
       "        text-align: right;\n",
       "    }\n",
       "</style>\n",
       "<table border=\"1\" class=\"dataframe\">\n",
       "  <thead>\n",
       "    <tr style=\"text-align: right;\">\n",
       "      <th></th>\n",
       "      <th>Date</th>\n",
       "      <th>Unemployment Rate</th>\n",
       "    </tr>\n",
       "  </thead>\n",
       "  <tbody>\n",
       "    <tr>\n",
       "      <th>0</th>\n",
       "      <td>1967-10-01</td>\n",
       "      <td>3.8</td>\n",
       "    </tr>\n",
       "    <tr>\n",
       "      <th>1</th>\n",
       "      <td>1968-01-01</td>\n",
       "      <td>3.7</td>\n",
       "    </tr>\n",
       "    <tr>\n",
       "      <th>2</th>\n",
       "      <td>1968-04-01</td>\n",
       "      <td>3.7</td>\n",
       "    </tr>\n",
       "    <tr>\n",
       "      <th>3</th>\n",
       "      <td>1968-07-01</td>\n",
       "      <td>3.4</td>\n",
       "    </tr>\n",
       "    <tr>\n",
       "      <th>4</th>\n",
       "      <td>1968-10-01</td>\n",
       "      <td>3.4</td>\n",
       "    </tr>\n",
       "    <tr>\n",
       "      <th>...</th>\n",
       "      <td>...</td>\n",
       "      <td>...</td>\n",
       "    </tr>\n",
       "    <tr>\n",
       "      <th>210</th>\n",
       "      <td>2020-04-01</td>\n",
       "      <td>11.1</td>\n",
       "    </tr>\n",
       "    <tr>\n",
       "      <th>211</th>\n",
       "      <td>2020-07-01</td>\n",
       "      <td>7.8</td>\n",
       "    </tr>\n",
       "    <tr>\n",
       "      <th>212</th>\n",
       "      <td>2020-10-01</td>\n",
       "      <td>6.7</td>\n",
       "    </tr>\n",
       "    <tr>\n",
       "      <th>213</th>\n",
       "      <td>2021-01-01</td>\n",
       "      <td>6.0</td>\n",
       "    </tr>\n",
       "    <tr>\n",
       "      <th>214</th>\n",
       "      <td>2021-04-01</td>\n",
       "      <td>5.9</td>\n",
       "    </tr>\n",
       "  </tbody>\n",
       "</table>\n",
       "<p>215 rows × 2 columns</p>\n",
       "</div>"
      ],
      "text/plain": [
       "           Date  Unemployment Rate\n",
       "0    1967-10-01                3.8\n",
       "1    1968-01-01                3.7\n",
       "2    1968-04-01                3.7\n",
       "3    1968-07-01                3.4\n",
       "4    1968-10-01                3.4\n",
       "..          ...                ...\n",
       "210  2020-04-01               11.1\n",
       "211  2020-07-01                7.8\n",
       "212  2020-10-01                6.7\n",
       "213  2021-01-01                6.0\n",
       "214  2021-04-01                5.9\n",
       "\n",
       "[215 rows x 2 columns]"
      ]
     },
     "execution_count": 4,
     "metadata": {},
     "output_type": "execute_result"
    }
   ],
   "source": [
    "unemployment_rate = pd.read_csv('UnemploymentRate.csv')\n",
    "unemployment_rate.columns = ['Date', 'Unemployment Rate']\n",
    "unemployment_rate"
   ]
  },
  {
   "cell_type": "code",
   "execution_count": 5,
   "metadata": {},
   "outputs": [
    {
     "data": {
      "text/html": [
       "<div>\n",
       "<style scoped>\n",
       "    .dataframe tbody tr th:only-of-type {\n",
       "        vertical-align: middle;\n",
       "    }\n",
       "\n",
       "    .dataframe tbody tr th {\n",
       "        vertical-align: top;\n",
       "    }\n",
       "\n",
       "    .dataframe thead th {\n",
       "        text-align: right;\n",
       "    }\n",
       "</style>\n",
       "<table border=\"1\" class=\"dataframe\">\n",
       "  <thead>\n",
       "    <tr style=\"text-align: right;\">\n",
       "      <th></th>\n",
       "      <th>Date</th>\n",
       "      <th>Per Capita GDP</th>\n",
       "    </tr>\n",
       "  </thead>\n",
       "  <tbody>\n",
       "    <tr>\n",
       "      <th>0</th>\n",
       "      <td>1967-10-01</td>\n",
       "      <td>23144.0</td>\n",
       "    </tr>\n",
       "    <tr>\n",
       "      <th>1</th>\n",
       "      <td>1968-01-01</td>\n",
       "      <td>23566.0</td>\n",
       "    </tr>\n",
       "    <tr>\n",
       "      <th>2</th>\n",
       "      <td>1968-04-01</td>\n",
       "      <td>23905.0</td>\n",
       "    </tr>\n",
       "    <tr>\n",
       "      <th>3</th>\n",
       "      <td>1968-07-01</td>\n",
       "      <td>24025.0</td>\n",
       "    </tr>\n",
       "    <tr>\n",
       "      <th>4</th>\n",
       "      <td>1968-10-01</td>\n",
       "      <td>24054.0</td>\n",
       "    </tr>\n",
       "    <tr>\n",
       "      <th>...</th>\n",
       "      <td>...</td>\n",
       "      <td>...</td>\n",
       "    </tr>\n",
       "    <tr>\n",
       "      <th>210</th>\n",
       "      <td>2020-04-01</td>\n",
       "      <td>52314.0</td>\n",
       "    </tr>\n",
       "    <tr>\n",
       "      <th>211</th>\n",
       "      <td>2020-07-01</td>\n",
       "      <td>56182.0</td>\n",
       "    </tr>\n",
       "    <tr>\n",
       "      <th>212</th>\n",
       "      <td>2020-10-01</td>\n",
       "      <td>56732.0</td>\n",
       "    </tr>\n",
       "    <tr>\n",
       "      <th>213</th>\n",
       "      <td>2021-01-01</td>\n",
       "      <td>57568.0</td>\n",
       "    </tr>\n",
       "    <tr>\n",
       "      <th>214</th>\n",
       "      <td>2021-04-01</td>\n",
       "      <td>58454.0</td>\n",
       "    </tr>\n",
       "  </tbody>\n",
       "</table>\n",
       "<p>215 rows × 2 columns</p>\n",
       "</div>"
      ],
      "text/plain": [
       "           Date  Per Capita GDP\n",
       "0    1967-10-01         23144.0\n",
       "1    1968-01-01         23566.0\n",
       "2    1968-04-01         23905.0\n",
       "3    1968-07-01         24025.0\n",
       "4    1968-10-01         24054.0\n",
       "..          ...             ...\n",
       "210  2020-04-01         52314.0\n",
       "211  2020-07-01         56182.0\n",
       "212  2020-10-01         56732.0\n",
       "213  2021-01-01         57568.0\n",
       "214  2021-04-01         58454.0\n",
       "\n",
       "[215 rows x 2 columns]"
      ]
     },
     "execution_count": 5,
     "metadata": {},
     "output_type": "execute_result"
    }
   ],
   "source": [
    "gdp = pd.read_csv('USGDPPerCapita.csv')\n",
    "gdp.columns = ['Date', 'Per Capita GDP']\n",
    "gdp"
   ]
  },
  {
   "cell_type": "code",
   "execution_count": 6,
   "metadata": {},
   "outputs": [
    {
     "data": {
      "text/html": [
       "<div>\n",
       "<style scoped>\n",
       "    .dataframe tbody tr th:only-of-type {\n",
       "        vertical-align: middle;\n",
       "    }\n",
       "\n",
       "    .dataframe tbody tr th {\n",
       "        vertical-align: top;\n",
       "    }\n",
       "\n",
       "    .dataframe thead th {\n",
       "        text-align: right;\n",
       "    }\n",
       "</style>\n",
       "<table border=\"1\" class=\"dataframe\">\n",
       "  <thead>\n",
       "    <tr style=\"text-align: right;\">\n",
       "      <th></th>\n",
       "      <th>Date</th>\n",
       "      <th>Labor Force Participation</th>\n",
       "    </tr>\n",
       "  </thead>\n",
       "  <tbody>\n",
       "    <tr>\n",
       "      <th>0</th>\n",
       "      <td>1967-10-01</td>\n",
       "      <td>59.9</td>\n",
       "    </tr>\n",
       "    <tr>\n",
       "      <th>1</th>\n",
       "      <td>1968-01-01</td>\n",
       "      <td>59.6</td>\n",
       "    </tr>\n",
       "    <tr>\n",
       "      <th>2</th>\n",
       "      <td>1968-04-01</td>\n",
       "      <td>60.0</td>\n",
       "    </tr>\n",
       "    <tr>\n",
       "      <th>3</th>\n",
       "      <td>1968-07-01</td>\n",
       "      <td>59.5</td>\n",
       "    </tr>\n",
       "    <tr>\n",
       "      <th>4</th>\n",
       "      <td>1968-10-01</td>\n",
       "      <td>59.7</td>\n",
       "    </tr>\n",
       "    <tr>\n",
       "      <th>...</th>\n",
       "      <td>...</td>\n",
       "      <td>...</td>\n",
       "    </tr>\n",
       "    <tr>\n",
       "      <th>210</th>\n",
       "      <td>2020-04-01</td>\n",
       "      <td>61.4</td>\n",
       "    </tr>\n",
       "    <tr>\n",
       "      <th>211</th>\n",
       "      <td>2020-07-01</td>\n",
       "      <td>61.4</td>\n",
       "    </tr>\n",
       "    <tr>\n",
       "      <th>212</th>\n",
       "      <td>2020-10-01</td>\n",
       "      <td>61.5</td>\n",
       "    </tr>\n",
       "    <tr>\n",
       "      <th>213</th>\n",
       "      <td>2021-01-01</td>\n",
       "      <td>61.5</td>\n",
       "    </tr>\n",
       "    <tr>\n",
       "      <th>214</th>\n",
       "      <td>2021-04-01</td>\n",
       "      <td>61.6</td>\n",
       "    </tr>\n",
       "  </tbody>\n",
       "</table>\n",
       "<p>215 rows × 2 columns</p>\n",
       "</div>"
      ],
      "text/plain": [
       "           Date  Labor Force Participation\n",
       "0    1967-10-01                       59.9\n",
       "1    1968-01-01                       59.6\n",
       "2    1968-04-01                       60.0\n",
       "3    1968-07-01                       59.5\n",
       "4    1968-10-01                       59.7\n",
       "..          ...                        ...\n",
       "210  2020-04-01                       61.4\n",
       "211  2020-07-01                       61.4\n",
       "212  2020-10-01                       61.5\n",
       "213  2021-01-01                       61.5\n",
       "214  2021-04-01                       61.6\n",
       "\n",
       "[215 rows x 2 columns]"
      ]
     },
     "execution_count": 6,
     "metadata": {},
     "output_type": "execute_result"
    }
   ],
   "source": [
    "lfp = pd.read_csv('LFParticip.csv')\n",
    "lfp.columns = ['Date', 'Labor Force Participation']\n",
    "lfp"
   ]
  },
  {
   "cell_type": "code",
   "execution_count": 7,
   "metadata": {},
   "outputs": [
    {
     "data": {
      "text/html": [
       "<div>\n",
       "<style scoped>\n",
       "    .dataframe tbody tr th:only-of-type {\n",
       "        vertical-align: middle;\n",
       "    }\n",
       "\n",
       "    .dataframe tbody tr th {\n",
       "        vertical-align: top;\n",
       "    }\n",
       "\n",
       "    .dataframe thead th {\n",
       "        text-align: right;\n",
       "    }\n",
       "</style>\n",
       "<table border=\"1\" class=\"dataframe\">\n",
       "  <thead>\n",
       "    <tr style=\"text-align: right;\">\n",
       "      <th></th>\n",
       "      <th>Date</th>\n",
       "      <th>Median Income</th>\n",
       "    </tr>\n",
       "  </thead>\n",
       "  <tbody>\n",
       "    <tr>\n",
       "      <th>0</th>\n",
       "      <td>1974-01-01</td>\n",
       "      <td>25326</td>\n",
       "    </tr>\n",
       "    <tr>\n",
       "      <th>1</th>\n",
       "      <td>1975-01-01</td>\n",
       "      <td>24846</td>\n",
       "    </tr>\n",
       "    <tr>\n",
       "      <th>2</th>\n",
       "      <td>1976-01-01</td>\n",
       "      <td>24896</td>\n",
       "    </tr>\n",
       "    <tr>\n",
       "      <th>3</th>\n",
       "      <td>1977-01-01</td>\n",
       "      <td>25084</td>\n",
       "    </tr>\n",
       "    <tr>\n",
       "      <th>4</th>\n",
       "      <td>1978-01-01</td>\n",
       "      <td>24877</td>\n",
       "    </tr>\n",
       "  </tbody>\n",
       "</table>\n",
       "</div>"
      ],
      "text/plain": [
       "        Date  Median Income\n",
       "0 1974-01-01          25326\n",
       "1 1975-01-01          24846\n",
       "2 1976-01-01          24896\n",
       "3 1977-01-01          25084\n",
       "4 1978-01-01          24877"
      ]
     },
     "execution_count": 7,
     "metadata": {},
     "output_type": "execute_result"
    }
   ],
   "source": [
    "med_income = pd.read_csv('MedianIncome.csv')\n",
    "med_income.columns = ['Date', 'Median Income']\n",
    "med_income.Date = pd.to_datetime(med_income.Date)\n",
    "med_income.head()"
   ]
  },
  {
   "cell_type": "markdown",
   "metadata": {},
   "source": [
    "Next, I need to bring the individual dataframes together in to one dataframe, and convert the Date column to Datetime format.  I am using merge to bring in the median income data, as this dataframe does not have the same # of rows as the others.  The Median Income data is annual, as opposed to quarterly."
   ]
  },
  {
   "cell_type": "code",
   "execution_count": 8,
   "metadata": {},
   "outputs": [
    {
     "name": "stdout",
     "output_type": "stream",
     "text": [
      "<class 'pandas.core.frame.DataFrame'>\n",
      "RangeIndex: 215 entries, 0 to 214\n",
      "Data columns (total 6 columns):\n",
      " #   Column                     Non-Null Count  Dtype         \n",
      "---  ------                     --------------  -----         \n",
      " 0   Date                       215 non-null    datetime64[ns]\n",
      " 1   Min Wage                   215 non-null    float64       \n",
      " 2   CPI                        215 non-null    float64       \n",
      " 3   Unemployment Rate          215 non-null    float64       \n",
      " 4   Per Capita GDP             215 non-null    float64       \n",
      " 5   Labor Force Participation  215 non-null    float64       \n",
      "dtypes: datetime64[ns](1), float64(5)\n",
      "memory usage: 10.2 KB\n"
     ]
    }
   ],
   "source": [
    "df_temp = pd.concat([min_wage, cpi.CPI, unemployment_rate['Unemployment Rate'], gdp['Per Capita GDP'], lfp['Labor Force Participation']], axis=1)\n",
    "df_temp.Date = pd.to_datetime(df_temp.Date)\n",
    "df_temp.info()"
   ]
  },
  {
   "cell_type": "code",
   "execution_count": 9,
   "metadata": {},
   "outputs": [
    {
     "name": "stdout",
     "output_type": "stream",
     "text": [
      "<class 'pandas.core.frame.DataFrame'>\n",
      "Int64Index: 215 entries, 0 to 214\n",
      "Data columns (total 7 columns):\n",
      " #   Column                     Non-Null Count  Dtype         \n",
      "---  ------                     --------------  -----         \n",
      " 0   Date                       215 non-null    datetime64[ns]\n",
      " 1   Min Wage                   215 non-null    float64       \n",
      " 2   CPI                        215 non-null    float64       \n",
      " 3   Unemployment Rate          215 non-null    float64       \n",
      " 4   Per Capita GDP             215 non-null    float64       \n",
      " 5   Labor Force Participation  215 non-null    float64       \n",
      " 6   Median Income              47 non-null     float64       \n",
      "dtypes: datetime64[ns](1), float64(6)\n",
      "memory usage: 13.4 KB\n"
     ]
    }
   ],
   "source": [
    "#Performing the Merge and confirming\n",
    "\n",
    "df = pd.merge(df_temp, med_income, how = 'outer')\n",
    "df.info()"
   ]
  },
  {
   "cell_type": "code",
   "execution_count": 10,
   "metadata": {},
   "outputs": [
    {
     "data": {
      "text/html": [
       "<div>\n",
       "<style scoped>\n",
       "    .dataframe tbody tr th:only-of-type {\n",
       "        vertical-align: middle;\n",
       "    }\n",
       "\n",
       "    .dataframe tbody tr th {\n",
       "        vertical-align: top;\n",
       "    }\n",
       "\n",
       "    .dataframe thead th {\n",
       "        text-align: right;\n",
       "    }\n",
       "</style>\n",
       "<table border=\"1\" class=\"dataframe\">\n",
       "  <thead>\n",
       "    <tr style=\"text-align: right;\">\n",
       "      <th></th>\n",
       "      <th>Date</th>\n",
       "      <th>Min Wage</th>\n",
       "      <th>CPI</th>\n",
       "      <th>Unemployment Rate</th>\n",
       "      <th>Per Capita GDP</th>\n",
       "      <th>Labor Force Participation</th>\n",
       "      <th>Median Income</th>\n",
       "    </tr>\n",
       "  </thead>\n",
       "  <tbody>\n",
       "    <tr>\n",
       "      <th>141</th>\n",
       "      <td>2003-01-01</td>\n",
       "      <td>5.15</td>\n",
       "      <td>188.72951</td>\n",
       "      <td>5.9</td>\n",
       "      <td>47027.0</td>\n",
       "      <td>66.3</td>\n",
       "      <td>31986.0</td>\n",
       "    </tr>\n",
       "    <tr>\n",
       "      <th>110</th>\n",
       "      <td>1995-04-01</td>\n",
       "      <td>4.25</td>\n",
       "      <td>156.25000</td>\n",
       "      <td>5.6</td>\n",
       "      <td>39760.0</td>\n",
       "      <td>66.5</td>\n",
       "      <td>NaN</td>\n",
       "    </tr>\n",
       "    <tr>\n",
       "      <th>130</th>\n",
       "      <td>2000-04-01</td>\n",
       "      <td>5.15</td>\n",
       "      <td>176.63934</td>\n",
       "      <td>4.0</td>\n",
       "      <td>46704.0</td>\n",
       "      <td>67.1</td>\n",
       "      <td>NaN</td>\n",
       "    </tr>\n",
       "    <tr>\n",
       "      <th>44</th>\n",
       "      <td>1978-10-01</td>\n",
       "      <td>2.65</td>\n",
       "      <td>69.36475</td>\n",
       "      <td>6.0</td>\n",
       "      <td>30119.0</td>\n",
       "      <td>63.6</td>\n",
       "      <td>NaN</td>\n",
       "    </tr>\n",
       "    <tr>\n",
       "      <th>185</th>\n",
       "      <td>2014-01-01</td>\n",
       "      <td>7.25</td>\n",
       "      <td>242.10348</td>\n",
       "      <td>6.7</td>\n",
       "      <td>52411.0</td>\n",
       "      <td>63.1</td>\n",
       "      <td>31473.0</td>\n",
       "    </tr>\n",
       "    <tr>\n",
       "      <th>160</th>\n",
       "      <td>2007-10-01</td>\n",
       "      <td>5.85</td>\n",
       "      <td>215.20082</td>\n",
       "      <td>5.0</td>\n",
       "      <td>52066.0</td>\n",
       "      <td>66.0</td>\n",
       "      <td>NaN</td>\n",
       "    </tr>\n",
       "    <tr>\n",
       "      <th>47</th>\n",
       "      <td>1979-07-01</td>\n",
       "      <td>2.90</td>\n",
       "      <td>76.43443</td>\n",
       "      <td>5.9</td>\n",
       "      <td>30182.0</td>\n",
       "      <td>63.8</td>\n",
       "      <td>NaN</td>\n",
       "    </tr>\n",
       "    <tr>\n",
       "      <th>100</th>\n",
       "      <td>1992-10-01</td>\n",
       "      <td>4.25</td>\n",
       "      <td>145.38934</td>\n",
       "      <td>7.4</td>\n",
       "      <td>38102.0</td>\n",
       "      <td>66.3</td>\n",
       "      <td>NaN</td>\n",
       "    </tr>\n",
       "    <tr>\n",
       "      <th>120</th>\n",
       "      <td>1997-10-01</td>\n",
       "      <td>5.15</td>\n",
       "      <td>165.26639</td>\n",
       "      <td>4.7</td>\n",
       "      <td>42745.0</td>\n",
       "      <td>67.2</td>\n",
       "      <td>NaN</td>\n",
       "    </tr>\n",
       "    <tr>\n",
       "      <th>190</th>\n",
       "      <td>2015-04-01</td>\n",
       "      <td>7.25</td>\n",
       "      <td>244.50615</td>\n",
       "      <td>5.3</td>\n",
       "      <td>54217.0</td>\n",
       "      <td>62.7</td>\n",
       "      <td>NaN</td>\n",
       "    </tr>\n",
       "  </tbody>\n",
       "</table>\n",
       "</div>"
      ],
      "text/plain": [
       "          Date  Min Wage        CPI  Unemployment Rate  Per Capita GDP  \\\n",
       "141 2003-01-01      5.15  188.72951                5.9         47027.0   \n",
       "110 1995-04-01      4.25  156.25000                5.6         39760.0   \n",
       "130 2000-04-01      5.15  176.63934                4.0         46704.0   \n",
       "44  1978-10-01      2.65   69.36475                6.0         30119.0   \n",
       "185 2014-01-01      7.25  242.10348                6.7         52411.0   \n",
       "160 2007-10-01      5.85  215.20082                5.0         52066.0   \n",
       "47  1979-07-01      2.90   76.43443                5.9         30182.0   \n",
       "100 1992-10-01      4.25  145.38934                7.4         38102.0   \n",
       "120 1997-10-01      5.15  165.26639                4.7         42745.0   \n",
       "190 2015-04-01      7.25  244.50615                5.3         54217.0   \n",
       "\n",
       "     Labor Force Participation  Median Income  \n",
       "141                       66.3        31986.0  \n",
       "110                       66.5            NaN  \n",
       "130                       67.1            NaN  \n",
       "44                        63.6            NaN  \n",
       "185                       63.1        31473.0  \n",
       "160                       66.0            NaN  \n",
       "47                        63.8            NaN  \n",
       "100                       66.3            NaN  \n",
       "120                       67.2            NaN  \n",
       "190                       62.7            NaN  "
      ]
     },
     "execution_count": 10,
     "metadata": {},
     "output_type": "execute_result"
    }
   ],
   "source": [
    "df.sample(10)"
   ]
  },
  {
   "cell_type": "markdown",
   "metadata": {},
   "source": [
    "Everything Looks good, except now I want to impute quarterly values for the Median Income.  I have records for January, but not for each April, July, or October. For these records, I'm going to impute values based on assuming a basic linear regression throughout the year.  \n",
    "Since our Median Income variable does not go as far back as our other values, There will still be some NaN values in the column.  I don't have enough information to impute data for these, so I will leave the NaN #'s for those records. "
   ]
  },
  {
   "cell_type": "code",
   "execution_count": 11,
   "metadata": {},
   "outputs": [
    {
     "data": {
      "text/html": [
       "<div>\n",
       "<style scoped>\n",
       "    .dataframe tbody tr th:only-of-type {\n",
       "        vertical-align: middle;\n",
       "    }\n",
       "\n",
       "    .dataframe tbody tr th {\n",
       "        vertical-align: top;\n",
       "    }\n",
       "\n",
       "    .dataframe thead th {\n",
       "        text-align: right;\n",
       "    }\n",
       "</style>\n",
       "<table border=\"1\" class=\"dataframe\">\n",
       "  <thead>\n",
       "    <tr style=\"text-align: right;\">\n",
       "      <th></th>\n",
       "      <th>Date</th>\n",
       "      <th>Median Income</th>\n",
       "    </tr>\n",
       "  </thead>\n",
       "  <tbody>\n",
       "    <tr>\n",
       "      <th>25</th>\n",
       "      <td>1974-01-01</td>\n",
       "      <td>25326.0</td>\n",
       "    </tr>\n",
       "    <tr>\n",
       "      <th>26</th>\n",
       "      <td>1974-04-01</td>\n",
       "      <td>NaN</td>\n",
       "    </tr>\n",
       "    <tr>\n",
       "      <th>27</th>\n",
       "      <td>1974-07-01</td>\n",
       "      <td>NaN</td>\n",
       "    </tr>\n",
       "    <tr>\n",
       "      <th>28</th>\n",
       "      <td>1974-10-01</td>\n",
       "      <td>NaN</td>\n",
       "    </tr>\n",
       "    <tr>\n",
       "      <th>29</th>\n",
       "      <td>1975-01-01</td>\n",
       "      <td>24846.0</td>\n",
       "    </tr>\n",
       "    <tr>\n",
       "      <th>30</th>\n",
       "      <td>1975-04-01</td>\n",
       "      <td>NaN</td>\n",
       "    </tr>\n",
       "    <tr>\n",
       "      <th>31</th>\n",
       "      <td>1975-07-01</td>\n",
       "      <td>NaN</td>\n",
       "    </tr>\n",
       "    <tr>\n",
       "      <th>32</th>\n",
       "      <td>1975-10-01</td>\n",
       "      <td>NaN</td>\n",
       "    </tr>\n",
       "    <tr>\n",
       "      <th>33</th>\n",
       "      <td>1976-01-01</td>\n",
       "      <td>24896.0</td>\n",
       "    </tr>\n",
       "    <tr>\n",
       "      <th>34</th>\n",
       "      <td>1976-04-01</td>\n",
       "      <td>NaN</td>\n",
       "    </tr>\n",
       "    <tr>\n",
       "      <th>35</th>\n",
       "      <td>1976-07-01</td>\n",
       "      <td>NaN</td>\n",
       "    </tr>\n",
       "    <tr>\n",
       "      <th>36</th>\n",
       "      <td>1976-10-01</td>\n",
       "      <td>NaN</td>\n",
       "    </tr>\n",
       "    <tr>\n",
       "      <th>37</th>\n",
       "      <td>1977-01-01</td>\n",
       "      <td>25084.0</td>\n",
       "    </tr>\n",
       "  </tbody>\n",
       "</table>\n",
       "</div>"
      ],
      "text/plain": [
       "         Date  Median Income\n",
       "25 1974-01-01        25326.0\n",
       "26 1974-04-01            NaN\n",
       "27 1974-07-01            NaN\n",
       "28 1974-10-01            NaN\n",
       "29 1975-01-01        24846.0\n",
       "30 1975-04-01            NaN\n",
       "31 1975-07-01            NaN\n",
       "32 1975-10-01            NaN\n",
       "33 1976-01-01        24896.0\n",
       "34 1976-04-01            NaN\n",
       "35 1976-07-01            NaN\n",
       "36 1976-10-01            NaN\n",
       "37 1977-01-01        25084.0"
      ]
     },
     "execution_count": 11,
     "metadata": {},
     "output_type": "execute_result"
    }
   ],
   "source": [
    "df[['Date', 'Median Income']].loc[25:37]"
   ]
  },
  {
   "cell_type": "code",
   "execution_count": 12,
   "metadata": {},
   "outputs": [
    {
     "name": "stderr",
     "output_type": "stream",
     "text": [
      "C:\\Users\\drewc\\anaconda3\\lib\\site-packages\\pandas\\core\\indexing.py:670: SettingWithCopyWarning: \n",
      "A value is trying to be set on a copy of a slice from a DataFrame\n",
      "\n",
      "See the caveats in the documentation: https://pandas.pydata.org/pandas-docs/stable/user_guide/indexing.html#returning-a-view-versus-a-copy\n",
      "  iloc._setitem_with_indexer(indexer, value)\n"
     ]
    }
   ],
   "source": [
    "for n in range(48):\n",
    "\n",
    "    i = 25 + 4 * (n-1)\n",
    "    end_mi = df.loc[(i+4)]['Median Income']\n",
    "    start_mi = df.loc[i]['Median Income']\n",
    "    annual_diff = end_mi - start_mi\n",
    "    qtr_diff = annual_diff / 4\n",
    "    df['Median Income'].loc[(i+1)] = start_mi + qtr_diff\n",
    "    df['Median Income'].loc[(i+2)] = (start_mi + (qtr_diff * 2))\n",
    "    df['Median Income'].loc[(i+3)] = (start_mi + (qtr_diff * 3))\n",
    "    \n"
   ]
  },
  {
   "cell_type": "code",
   "execution_count": 13,
   "metadata": {},
   "outputs": [
    {
     "data": {
      "text/html": [
       "<div>\n",
       "<style scoped>\n",
       "    .dataframe tbody tr th:only-of-type {\n",
       "        vertical-align: middle;\n",
       "    }\n",
       "\n",
       "    .dataframe tbody tr th {\n",
       "        vertical-align: top;\n",
       "    }\n",
       "\n",
       "    .dataframe thead th {\n",
       "        text-align: right;\n",
       "    }\n",
       "</style>\n",
       "<table border=\"1\" class=\"dataframe\">\n",
       "  <thead>\n",
       "    <tr style=\"text-align: right;\">\n",
       "      <th></th>\n",
       "      <th>Date</th>\n",
       "      <th>Median Income</th>\n",
       "    </tr>\n",
       "  </thead>\n",
       "  <tbody>\n",
       "    <tr>\n",
       "      <th>25</th>\n",
       "      <td>1974-01-01</td>\n",
       "      <td>25326.0</td>\n",
       "    </tr>\n",
       "    <tr>\n",
       "      <th>26</th>\n",
       "      <td>1974-04-01</td>\n",
       "      <td>25206.0</td>\n",
       "    </tr>\n",
       "    <tr>\n",
       "      <th>27</th>\n",
       "      <td>1974-07-01</td>\n",
       "      <td>25086.0</td>\n",
       "    </tr>\n",
       "    <tr>\n",
       "      <th>28</th>\n",
       "      <td>1974-10-01</td>\n",
       "      <td>24966.0</td>\n",
       "    </tr>\n",
       "    <tr>\n",
       "      <th>29</th>\n",
       "      <td>1975-01-01</td>\n",
       "      <td>24846.0</td>\n",
       "    </tr>\n",
       "    <tr>\n",
       "      <th>30</th>\n",
       "      <td>1975-04-01</td>\n",
       "      <td>24858.5</td>\n",
       "    </tr>\n",
       "    <tr>\n",
       "      <th>31</th>\n",
       "      <td>1975-07-01</td>\n",
       "      <td>24871.0</td>\n",
       "    </tr>\n",
       "    <tr>\n",
       "      <th>32</th>\n",
       "      <td>1975-10-01</td>\n",
       "      <td>24883.5</td>\n",
       "    </tr>\n",
       "    <tr>\n",
       "      <th>33</th>\n",
       "      <td>1976-01-01</td>\n",
       "      <td>24896.0</td>\n",
       "    </tr>\n",
       "    <tr>\n",
       "      <th>34</th>\n",
       "      <td>1976-04-01</td>\n",
       "      <td>24943.0</td>\n",
       "    </tr>\n",
       "    <tr>\n",
       "      <th>35</th>\n",
       "      <td>1976-07-01</td>\n",
       "      <td>24990.0</td>\n",
       "    </tr>\n",
       "    <tr>\n",
       "      <th>36</th>\n",
       "      <td>1976-10-01</td>\n",
       "      <td>25037.0</td>\n",
       "    </tr>\n",
       "    <tr>\n",
       "      <th>37</th>\n",
       "      <td>1977-01-01</td>\n",
       "      <td>25084.0</td>\n",
       "    </tr>\n",
       "  </tbody>\n",
       "</table>\n",
       "</div>"
      ],
      "text/plain": [
       "         Date  Median Income\n",
       "25 1974-01-01        25326.0\n",
       "26 1974-04-01        25206.0\n",
       "27 1974-07-01        25086.0\n",
       "28 1974-10-01        24966.0\n",
       "29 1975-01-01        24846.0\n",
       "30 1975-04-01        24858.5\n",
       "31 1975-07-01        24871.0\n",
       "32 1975-10-01        24883.5\n",
       "33 1976-01-01        24896.0\n",
       "34 1976-04-01        24943.0\n",
       "35 1976-07-01        24990.0\n",
       "36 1976-10-01        25037.0\n",
       "37 1977-01-01        25084.0"
      ]
     },
     "execution_count": 13,
     "metadata": {},
     "output_type": "execute_result"
    }
   ],
   "source": [
    "#confirming the changes have taken place\n",
    "\n",
    "df[['Date', 'Median Income']].loc[25:37]\n"
   ]
  },
  {
   "cell_type": "code",
   "execution_count": 14,
   "metadata": {},
   "outputs": [
    {
     "name": "stdout",
     "output_type": "stream",
     "text": [
      "<class 'pandas.core.frame.DataFrame'>\n",
      "Int64Index: 215 entries, 0 to 214\n",
      "Data columns (total 7 columns):\n",
      " #   Column                     Non-Null Count  Dtype         \n",
      "---  ------                     --------------  -----         \n",
      " 0   Date                       215 non-null    datetime64[ns]\n",
      " 1   Min Wage                   215 non-null    float64       \n",
      " 2   CPI                        215 non-null    float64       \n",
      " 3   Unemployment Rate          215 non-null    float64       \n",
      " 4   Per Capita GDP             215 non-null    float64       \n",
      " 5   Labor Force Participation  215 non-null    float64       \n",
      " 6   Median Income              185 non-null    float64       \n",
      "dtypes: datetime64[ns](1), float64(6)\n",
      "memory usage: 23.4 KB\n"
     ]
    }
   ],
   "source": [
    "df.info()"
   ]
  },
  {
   "cell_type": "markdown",
   "metadata": {},
   "source": [
    "All the quarterly values for Median income where we have pertinent data are now filled in. The data is now ready to be further explored."
   ]
  },
  {
   "cell_type": "code",
   "execution_count": 15,
   "metadata": {
    "scrolled": true
   },
   "outputs": [
    {
     "data": {
      "text/html": [
       "<div>\n",
       "<style scoped>\n",
       "    .dataframe tbody tr th:only-of-type {\n",
       "        vertical-align: middle;\n",
       "    }\n",
       "\n",
       "    .dataframe tbody tr th {\n",
       "        vertical-align: top;\n",
       "    }\n",
       "\n",
       "    .dataframe thead th {\n",
       "        text-align: right;\n",
       "    }\n",
       "</style>\n",
       "<table border=\"1\" class=\"dataframe\">\n",
       "  <thead>\n",
       "    <tr style=\"text-align: right;\">\n",
       "      <th></th>\n",
       "      <th>Date</th>\n",
       "      <th>Min Wage</th>\n",
       "      <th>CPI</th>\n",
       "      <th>Unemployment Rate</th>\n",
       "      <th>Per Capita GDP</th>\n",
       "      <th>Labor Force Participation</th>\n",
       "      <th>Median Income</th>\n",
       "    </tr>\n",
       "  </thead>\n",
       "  <tbody>\n",
       "    <tr>\n",
       "      <th>0</th>\n",
       "      <td>1967-10-01</td>\n",
       "      <td>1.40</td>\n",
       "      <td>34.73</td>\n",
       "      <td>3.8</td>\n",
       "      <td>23144.0</td>\n",
       "      <td>59.9</td>\n",
       "      <td>NaN</td>\n",
       "    </tr>\n",
       "    <tr>\n",
       "      <th>1</th>\n",
       "      <td>1968-01-01</td>\n",
       "      <td>1.60</td>\n",
       "      <td>35.14</td>\n",
       "      <td>3.7</td>\n",
       "      <td>23566.0</td>\n",
       "      <td>59.6</td>\n",
       "      <td>NaN</td>\n",
       "    </tr>\n",
       "    <tr>\n",
       "      <th>2</th>\n",
       "      <td>1968-04-01</td>\n",
       "      <td>1.60</td>\n",
       "      <td>35.55</td>\n",
       "      <td>3.7</td>\n",
       "      <td>23905.0</td>\n",
       "      <td>60.0</td>\n",
       "      <td>NaN</td>\n",
       "    </tr>\n",
       "    <tr>\n",
       "      <th>3</th>\n",
       "      <td>1968-07-01</td>\n",
       "      <td>1.60</td>\n",
       "      <td>35.96</td>\n",
       "      <td>3.4</td>\n",
       "      <td>24025.0</td>\n",
       "      <td>59.5</td>\n",
       "      <td>NaN</td>\n",
       "    </tr>\n",
       "    <tr>\n",
       "      <th>4</th>\n",
       "      <td>1968-10-01</td>\n",
       "      <td>1.60</td>\n",
       "      <td>36.37</td>\n",
       "      <td>3.4</td>\n",
       "      <td>24054.0</td>\n",
       "      <td>59.7</td>\n",
       "      <td>NaN</td>\n",
       "    </tr>\n",
       "    <tr>\n",
       "      <th>...</th>\n",
       "      <td>...</td>\n",
       "      <td>...</td>\n",
       "      <td>...</td>\n",
       "      <td>...</td>\n",
       "      <td>...</td>\n",
       "      <td>...</td>\n",
       "      <td>...</td>\n",
       "    </tr>\n",
       "    <tr>\n",
       "      <th>210</th>\n",
       "      <td>2020-04-01</td>\n",
       "      <td>7.25</td>\n",
       "      <td>264.14</td>\n",
       "      <td>11.1</td>\n",
       "      <td>52314.0</td>\n",
       "      <td>61.4</td>\n",
       "      <td>NaN</td>\n",
       "    </tr>\n",
       "    <tr>\n",
       "      <th>211</th>\n",
       "      <td>2020-07-01</td>\n",
       "      <td>7.25</td>\n",
       "      <td>266.68</td>\n",
       "      <td>7.8</td>\n",
       "      <td>56182.0</td>\n",
       "      <td>61.4</td>\n",
       "      <td>NaN</td>\n",
       "    </tr>\n",
       "    <tr>\n",
       "      <th>212</th>\n",
       "      <td>2020-10-01</td>\n",
       "      <td>7.25</td>\n",
       "      <td>266.88</td>\n",
       "      <td>6.7</td>\n",
       "      <td>56732.0</td>\n",
       "      <td>61.5</td>\n",
       "      <td>NaN</td>\n",
       "    </tr>\n",
       "    <tr>\n",
       "      <th>213</th>\n",
       "      <td>2021-01-01</td>\n",
       "      <td>7.25</td>\n",
       "      <td>271.39</td>\n",
       "      <td>6.0</td>\n",
       "      <td>57568.0</td>\n",
       "      <td>61.5</td>\n",
       "      <td>NaN</td>\n",
       "    </tr>\n",
       "    <tr>\n",
       "      <th>214</th>\n",
       "      <td>2021-04-01</td>\n",
       "      <td>7.25</td>\n",
       "      <td>278.38</td>\n",
       "      <td>5.9</td>\n",
       "      <td>58454.0</td>\n",
       "      <td>61.6</td>\n",
       "      <td>NaN</td>\n",
       "    </tr>\n",
       "  </tbody>\n",
       "</table>\n",
       "<p>215 rows × 7 columns</p>\n",
       "</div>"
      ],
      "text/plain": [
       "          Date  Min Wage     CPI  Unemployment Rate  Per Capita GDP  \\\n",
       "0   1967-10-01      1.40   34.73                3.8         23144.0   \n",
       "1   1968-01-01      1.60   35.14                3.7         23566.0   \n",
       "2   1968-04-01      1.60   35.55                3.7         23905.0   \n",
       "3   1968-07-01      1.60   35.96                3.4         24025.0   \n",
       "4   1968-10-01      1.60   36.37                3.4         24054.0   \n",
       "..         ...       ...     ...                ...             ...   \n",
       "210 2020-04-01      7.25  264.14               11.1         52314.0   \n",
       "211 2020-07-01      7.25  266.68                7.8         56182.0   \n",
       "212 2020-10-01      7.25  266.88                6.7         56732.0   \n",
       "213 2021-01-01      7.25  271.39                6.0         57568.0   \n",
       "214 2021-04-01      7.25  278.38                5.9         58454.0   \n",
       "\n",
       "     Labor Force Participation  Median Income  \n",
       "0                         59.9            NaN  \n",
       "1                         59.6            NaN  \n",
       "2                         60.0            NaN  \n",
       "3                         59.5            NaN  \n",
       "4                         59.7            NaN  \n",
       "..                         ...            ...  \n",
       "210                       61.4            NaN  \n",
       "211                       61.4            NaN  \n",
       "212                       61.5            NaN  \n",
       "213                       61.5            NaN  \n",
       "214                       61.6            NaN  \n",
       "\n",
       "[215 rows x 7 columns]"
      ]
     },
     "execution_count": 15,
     "metadata": {},
     "output_type": "execute_result"
    }
   ],
   "source": [
    "df.CPI = df.CPI.round(2)\n",
    "df"
   ]
  },
  {
   "cell_type": "markdown",
   "metadata": {},
   "source": [
    "# Data Exploration"
   ]
  },
  {
   "cell_type": "code",
   "execution_count": 16,
   "metadata": {
    "scrolled": true
   },
   "outputs": [
    {
     "data": {
      "image/png": "[encoded data removed]",
      "text/plain": [
       "<Figure size 1152x576 with 6 Axes>"
      ]
     },
     "metadata": {
      "needs_background": "light"
     },
     "output_type": "display_data"
    }
   ],
   "source": [
    "fig, ax = plt.subplots(2, 3, figsize=(16, 8))\n",
    "fig.subplots_adjust(hspace=.4)\n",
    "\n",
    "ax[0, 0].plot(df[\"Date\"], df[\"Min Wage\"])\n",
    "ax[0, 0].set_xlabel(\"Date\")\n",
    "ax[0, 0].set_ylabel(\"Minimum Wage\")\n",
    "ax[0, 0].set_title(\"Federal Minimum Wage Over Time\")\n",
    "\n",
    "ax[0, 1].plot(df['Date'], df['CPI'])\n",
    "ax[0, 1].set_xlabel('Date')\n",
    "ax[0, 1].set_ylabel('CPI')\n",
    "ax[0, 1].set_title('CPI Over Time')\n",
    "\n",
    "ax[0, 2].plot(df['Date'], df['Unemployment Rate'])\n",
    "ax[0, 2].set_xlabel('Date')\n",
    "ax[0, 2].set_ylabel('Unemployment Rate')\n",
    "ax[0, 2].set_title('Unemployment Rate Over Time')\n",
    "\n",
    "ax[1, 0].plot(df['Date'], df['Per Capita GDP'])\n",
    "ax[1, 0].set_xlabel('Date')\n",
    "ax[1, 0].set_ylabel('Per Capita GDP($)')\n",
    "ax[1, 0].set_title('Per Capita GDP Over Time')\n",
    "\n",
    "ax[1, 1].plot(df['Date'], df['Labor Force Participation'])\n",
    "ax[1, 1].set_xlabel('Date')\n",
    "ax[1, 1].set_ylabel('Labor Force Participation')\n",
    "ax[1, 1].set_title('Labor Force Participation')\n",
    "\n",
    "ax[1, 2].plot(df['Date'], df['Median Income'])\n",
    "ax[1, 2].set_xlabel('Date')\n",
    "ax[1, 2].set_ylabel('Median Income')\n",
    "ax[1, 2].set_title('Median Income Over Time')\n",
    "\n",
    "plt.show()"
   ]
  },
  {
   "cell_type": "markdown",
   "metadata": {},
   "source": [
    "What I really want to see is the change between values in given years, not necessarily the raw values themselves. I am going to create some new columns for CPI, GDP, Median Income, and Unemployment Rate, by calculated the change from quarter to quarter"
   ]
  },
  {
   "cell_type": "code",
   "execution_count": 17,
   "metadata": {},
   "outputs": [],
   "source": [
    "df['CPI % increase'] = df['CPI'].pct_change()\n",
    "df['GDP % increase'] = df['Per Capita GDP'].pct_change()\n",
    "df['Med inc % increase'] = df['Median Income'].pct_change()\n",
    "df['Unemployment Change'] = df['Unemployment Rate'].diff()"
   ]
  },
  {
   "cell_type": "markdown",
   "metadata": {},
   "source": [
    "The Co-vid Pandemic of the last year and a half has had a large impact on all of our economic #'s which may skew any information we pull from this period.  Since it as the very end of our time range, we have more than enough info to simply elimate the last rows of the database."
   ]
  },
  {
   "cell_type": "code",
   "execution_count": 18,
   "metadata": {},
   "outputs": [
    {
     "data": {
      "text/html": [
       "<div>\n",
       "<style scoped>\n",
       "    .dataframe tbody tr th:only-of-type {\n",
       "        vertical-align: middle;\n",
       "    }\n",
       "\n",
       "    .dataframe tbody tr th {\n",
       "        vertical-align: top;\n",
       "    }\n",
       "\n",
       "    .dataframe thead th {\n",
       "        text-align: right;\n",
       "    }\n",
       "</style>\n",
       "<table border=\"1\" class=\"dataframe\">\n",
       "  <thead>\n",
       "    <tr style=\"text-align: right;\">\n",
       "      <th></th>\n",
       "      <th>Date</th>\n",
       "      <th>Min Wage</th>\n",
       "      <th>CPI</th>\n",
       "      <th>Unemployment Rate</th>\n",
       "      <th>Per Capita GDP</th>\n",
       "      <th>Labor Force Participation</th>\n",
       "      <th>Median Income</th>\n",
       "      <th>CPI % increase</th>\n",
       "      <th>GDP % increase</th>\n",
       "      <th>Med inc % increase</th>\n",
       "      <th>Unemployment Change</th>\n",
       "    </tr>\n",
       "  </thead>\n",
       "  <tbody>\n",
       "    <tr>\n",
       "      <th>210</th>\n",
       "      <td>2020-04-01</td>\n",
       "      <td>7.25</td>\n",
       "      <td>264.14</td>\n",
       "      <td>11.1</td>\n",
       "      <td>52314.0</td>\n",
       "      <td>61.4</td>\n",
       "      <td>NaN</td>\n",
       "      <td>-0.001210</td>\n",
       "      <td>-0.090381</td>\n",
       "      <td>0.0</td>\n",
       "      <td>6.7</td>\n",
       "    </tr>\n",
       "    <tr>\n",
       "      <th>211</th>\n",
       "      <td>2020-07-01</td>\n",
       "      <td>7.25</td>\n",
       "      <td>266.68</td>\n",
       "      <td>7.8</td>\n",
       "      <td>56182.0</td>\n",
       "      <td>61.4</td>\n",
       "      <td>NaN</td>\n",
       "      <td>0.009616</td>\n",
       "      <td>0.073938</td>\n",
       "      <td>0.0</td>\n",
       "      <td>-3.3</td>\n",
       "    </tr>\n",
       "    <tr>\n",
       "      <th>212</th>\n",
       "      <td>2020-10-01</td>\n",
       "      <td>7.25</td>\n",
       "      <td>266.88</td>\n",
       "      <td>6.7</td>\n",
       "      <td>56732.0</td>\n",
       "      <td>61.5</td>\n",
       "      <td>NaN</td>\n",
       "      <td>0.000750</td>\n",
       "      <td>0.009790</td>\n",
       "      <td>0.0</td>\n",
       "      <td>-1.1</td>\n",
       "    </tr>\n",
       "    <tr>\n",
       "      <th>213</th>\n",
       "      <td>2021-01-01</td>\n",
       "      <td>7.25</td>\n",
       "      <td>271.39</td>\n",
       "      <td>6.0</td>\n",
       "      <td>57568.0</td>\n",
       "      <td>61.5</td>\n",
       "      <td>NaN</td>\n",
       "      <td>0.016899</td>\n",
       "      <td>0.014736</td>\n",
       "      <td>0.0</td>\n",
       "      <td>-0.7</td>\n",
       "    </tr>\n",
       "    <tr>\n",
       "      <th>214</th>\n",
       "      <td>2021-04-01</td>\n",
       "      <td>7.25</td>\n",
       "      <td>278.38</td>\n",
       "      <td>5.9</td>\n",
       "      <td>58454.0</td>\n",
       "      <td>61.6</td>\n",
       "      <td>NaN</td>\n",
       "      <td>0.025756</td>\n",
       "      <td>0.015390</td>\n",
       "      <td>0.0</td>\n",
       "      <td>-0.1</td>\n",
       "    </tr>\n",
       "  </tbody>\n",
       "</table>\n",
       "</div>"
      ],
      "text/plain": [
       "          Date  Min Wage     CPI  Unemployment Rate  Per Capita GDP  \\\n",
       "210 2020-04-01      7.25  264.14               11.1         52314.0   \n",
       "211 2020-07-01      7.25  266.68                7.8         56182.0   \n",
       "212 2020-10-01      7.25  266.88                6.7         56732.0   \n",
       "213 2021-01-01      7.25  271.39                6.0         57568.0   \n",
       "214 2021-04-01      7.25  278.38                5.9         58454.0   \n",
       "\n",
       "     Labor Force Participation  Median Income  CPI % increase  GDP % increase  \\\n",
       "210                       61.4            NaN       -0.001210       -0.090381   \n",
       "211                       61.4            NaN        0.009616        0.073938   \n",
       "212                       61.5            NaN        0.000750        0.009790   \n",
       "213                       61.5            NaN        0.016899        0.014736   \n",
       "214                       61.6            NaN        0.025756        0.015390   \n",
       "\n",
       "     Med inc % increase  Unemployment Change  \n",
       "210                 0.0                  6.7  \n",
       "211                 0.0                 -3.3  \n",
       "212                 0.0                 -1.1  \n",
       "213                 0.0                 -0.7  \n",
       "214                 0.0                 -0.1  "
      ]
     },
     "execution_count": 18,
     "metadata": {},
     "output_type": "execute_result"
    }
   ],
   "source": [
    "df.tail()"
   ]
  },
  {
   "cell_type": "code",
   "execution_count": 19,
   "metadata": {},
   "outputs": [],
   "source": [
    "df.drop(df.tail(5).index, inplace=True)"
   ]
  },
  {
   "cell_type": "markdown",
   "metadata": {},
   "source": [
    "As we don't have the data prior to October, 1967, and there is an immediate adjustment in minimum wage right after that, I am going to cut off the first few rows of data to allow us to start at a time when there has been no minimum wage increase for at least one year."
   ]
  },
  {
   "cell_type": "code",
   "execution_count": 20,
   "metadata": {
    "scrolled": true
   },
   "outputs": [
    {
     "data": {
      "text/plain": [
       "(205, 11)"
      ]
     },
     "execution_count": 20,
     "metadata": {},
     "output_type": "execute_result"
    }
   ],
   "source": [
    "df.drop(df.index[:5], inplace=True)\n",
    "df=df.reset_index(drop=True)\n",
    "df.shape"
   ]
  },
  {
   "cell_type": "code",
   "execution_count": 21,
   "metadata": {
    "scrolled": false
   },
   "outputs": [
    {
     "data": {
      "text/plain": [
       "array([1.6 , 2.  , 2.1 , 2.3 , 2.65, 2.9 , 3.1 , 3.35, 3.8 , 4.25, 4.75,\n",
       "       5.15, 5.85, 6.55, 7.25])"
      ]
     },
     "execution_count": 21,
     "metadata": {},
     "output_type": "execute_result"
    }
   ],
   "source": [
    "df['Min Wage'].unique()"
   ]
  },
  {
   "cell_type": "markdown",
   "metadata": {},
   "source": [
    "For modeling and data exploration purposes, I am going to add a new column called \"Min Wage Inc\".  This column will indicate whether the quarter being observed occurs within one year of a federal minimum wage hike.  "
   ]
  },
  {
   "cell_type": "code",
   "execution_count": 22,
   "metadata": {},
   "outputs": [
    {
     "name": "stdout",
     "output_type": "stream",
     "text": [
      "no increase    151\n",
      "increase        54\n",
      "Name: Min Wage Inc, dtype: int64\n"
     ]
    },
    {
     "name": "stderr",
     "output_type": "stream",
     "text": [
      "<ipython-input-22-0ef2f9f34848>:5: SettingWithCopyWarning: \n",
      "A value is trying to be set on a copy of a slice from a DataFrame\n",
      "\n",
      "See the caveats in the documentation: https://pandas.pydata.org/pandas-docs/stable/user_guide/indexing.html#returning-a-view-versus-a-copy\n",
      "  df['Min Wage Inc'][i] = 'no increase'\n",
      "<ipython-input-22-0ef2f9f34848>:9: SettingWithCopyWarning: \n",
      "A value is trying to be set on a copy of a slice from a DataFrame\n",
      "\n",
      "See the caveats in the documentation: https://pandas.pydata.org/pandas-docs/stable/user_guide/indexing.html#returning-a-view-versus-a-copy\n",
      "  df['Min Wage Inc'][i] = 'no increase'\n",
      "<ipython-input-22-0ef2f9f34848>:7: SettingWithCopyWarning: \n",
      "A value is trying to be set on a copy of a slice from a DataFrame\n",
      "\n",
      "See the caveats in the documentation: https://pandas.pydata.org/pandas-docs/stable/user_guide/indexing.html#returning-a-view-versus-a-copy\n",
      "  df['Min Wage Inc'][i] = 'increase'\n"
     ]
    },
    {
     "data": {
      "text/html": [
       "<div>\n",
       "<style scoped>\n",
       "    .dataframe tbody tr th:only-of-type {\n",
       "        vertical-align: middle;\n",
       "    }\n",
       "\n",
       "    .dataframe tbody tr th {\n",
       "        vertical-align: top;\n",
       "    }\n",
       "\n",
       "    .dataframe thead th {\n",
       "        text-align: right;\n",
       "    }\n",
       "</style>\n",
       "<table border=\"1\" class=\"dataframe\">\n",
       "  <thead>\n",
       "    <tr style=\"text-align: right;\">\n",
       "      <th></th>\n",
       "      <th>Date</th>\n",
       "      <th>Min Wage</th>\n",
       "      <th>CPI</th>\n",
       "      <th>Unemployment Rate</th>\n",
       "      <th>Per Capita GDP</th>\n",
       "      <th>Labor Force Participation</th>\n",
       "      <th>Median Income</th>\n",
       "      <th>CPI % increase</th>\n",
       "      <th>GDP % increase</th>\n",
       "      <th>Med inc % increase</th>\n",
       "      <th>Unemployment Change</th>\n",
       "      <th>Min Wage Inc</th>\n",
       "    </tr>\n",
       "  </thead>\n",
       "  <tbody>\n",
       "    <tr>\n",
       "      <th>198</th>\n",
       "      <td>2018-07-01</td>\n",
       "      <td>7.25</td>\n",
       "      <td>258.65</td>\n",
       "      <td>3.7</td>\n",
       "      <td>57095.0</td>\n",
       "      <td>62.7</td>\n",
       "      <td>35585.50</td>\n",
       "      <td>0.001782</td>\n",
       "      <td>0.003392</td>\n",
       "      <td>0.011951</td>\n",
       "      <td>-0.3</td>\n",
       "      <td>no increase</td>\n",
       "    </tr>\n",
       "    <tr>\n",
       "      <th>41</th>\n",
       "      <td>1979-04-01</td>\n",
       "      <td>2.90</td>\n",
       "      <td>74.08</td>\n",
       "      <td>5.7</td>\n",
       "      <td>30050.0</td>\n",
       "      <td>63.5</td>\n",
       "      <td>24101.25</td>\n",
       "      <td>0.035794</td>\n",
       "      <td>-0.001528</td>\n",
       "      <td>-0.003792</td>\n",
       "      <td>-0.1</td>\n",
       "      <td>increase</td>\n",
       "    </tr>\n",
       "    <tr>\n",
       "      <th>95</th>\n",
       "      <td>1992-10-01</td>\n",
       "      <td>4.25</td>\n",
       "      <td>145.39</td>\n",
       "      <td>7.4</td>\n",
       "      <td>38102.0</td>\n",
       "      <td>66.3</td>\n",
       "      <td>27223.00</td>\n",
       "      <td>0.004283</td>\n",
       "      <td>0.006951</td>\n",
       "      <td>0.002430</td>\n",
       "      <td>-0.2</td>\n",
       "      <td>no increase</td>\n",
       "    </tr>\n",
       "    <tr>\n",
       "      <th>162</th>\n",
       "      <td>2009-07-01</td>\n",
       "      <td>7.25</td>\n",
       "      <td>221.28</td>\n",
       "      <td>9.8</td>\n",
       "      <td>49473.0</td>\n",
       "      <td>65.1</td>\n",
       "      <td>31374.00</td>\n",
       "      <td>0.001267</td>\n",
       "      <td>0.001316</td>\n",
       "      <td>-0.003684</td>\n",
       "      <td>0.3</td>\n",
       "      <td>increase</td>\n",
       "    </tr>\n",
       "    <tr>\n",
       "      <th>147</th>\n",
       "      <td>2005-10-01</td>\n",
       "      <td>5.15</td>\n",
       "      <td>201.64</td>\n",
       "      <td>4.9</td>\n",
       "      <td>50629.0</td>\n",
       "      <td>66.0</td>\n",
       "      <td>32977.75</td>\n",
       "      <td>-0.010064</td>\n",
       "      <td>0.003150</td>\n",
       "      <td>0.006693</td>\n",
       "      <td>-0.1</td>\n",
       "      <td>no increase</td>\n",
       "    </tr>\n",
       "  </tbody>\n",
       "</table>\n",
       "</div>"
      ],
      "text/plain": [
       "          Date  Min Wage     CPI  Unemployment Rate  Per Capita GDP  \\\n",
       "198 2018-07-01      7.25  258.65                3.7         57095.0   \n",
       "41  1979-04-01      2.90   74.08                5.7         30050.0   \n",
       "95  1992-10-01      4.25  145.39                7.4         38102.0   \n",
       "162 2009-07-01      7.25  221.28                9.8         49473.0   \n",
       "147 2005-10-01      5.15  201.64                4.9         50629.0   \n",
       "\n",
       "     Labor Force Participation  Median Income  CPI % increase  GDP % increase  \\\n",
       "198                       62.7       35585.50        0.001782        0.003392   \n",
       "41                        63.5       24101.25        0.035794       -0.001528   \n",
       "95                        66.3       27223.00        0.004283        0.006951   \n",
       "162                       65.1       31374.00        0.001267        0.001316   \n",
       "147                       66.0       32977.75       -0.010064        0.003150   \n",
       "\n",
       "     Med inc % increase  Unemployment Change Min Wage Inc  \n",
       "198            0.011951                 -0.3  no increase  \n",
       "41            -0.003792                 -0.1     increase  \n",
       "95             0.002430                 -0.2  no increase  \n",
       "162           -0.003684                  0.3     increase  \n",
       "147            0.006693                 -0.1  no increase  "
      ]
     },
     "execution_count": 22,
     "metadata": {},
     "output_type": "execute_result"
    }
   ],
   "source": [
    "df['Min Wage Inc'] = ''\n",
    "\n",
    "for i in range(0, len(df)):\n",
    "    if i <4:\n",
    "        df['Min Wage Inc'][i] = 'no increase'\n",
    "    elif df['Min Wage'][i] > df['Min Wage'][(i-4)] or (df['Min Wage'][i] > df['Min Wage'][(i-3)]) or (df['Min Wage'][i] > df['Min Wage'][(i-2)]) or (df['Min Wage'][i] > df['Min Wage'][(i-1)]):\n",
    "        df['Min Wage Inc'][i] = 'increase' \n",
    "    else:\n",
    "        df['Min Wage Inc'][i] = 'no increase'\n",
    "\n",
    "print(df['Min Wage Inc'].value_counts())\n",
    "df.sample(5)"
   ]
  },
  {
   "cell_type": "code",
   "execution_count": 23,
   "metadata": {},
   "outputs": [
    {
     "data": {
      "image/png": "[encoded data removed]",
      "text/plain": [
       "<Figure size 864x432 with 1 Axes>"
      ]
     },
     "metadata": {
      "needs_background": "light"
     },
     "output_type": "display_data"
    },
    {
     "data": {
      "image/png": "[encoded data removed]",
      "text/plain": [
       "<Figure size 864x432 with 1 Axes>"
      ]
     },
     "metadata": {
      "needs_background": "light"
     },
     "output_type": "display_data"
    },
    {
     "data": {
      "image/png": "[encoded data removed]",
      "text/plain": [
       "<Figure size 864x432 with 1 Axes>"
      ]
     },
     "metadata": {
      "needs_background": "light"
     },
     "output_type": "display_data"
    },
    {
     "data": {
      "image/png": "[encoded data removed]",
      "text/plain": [
       "<Figure size 864x432 with 1 Axes>"
      ]
     },
     "metadata": {
      "needs_background": "light"
     },
     "output_type": "display_data"
    }
   ],
   "source": [
    "change_cols = ['CPI % increase', 'Unemployment Change', 'GDP % increase', 'Med inc % increase' ]\n",
    "\n",
    "for item in change_cols:\n",
    "    plt.figure(figsize = (12, 6))\n",
    "    plt.title(item)\n",
    "    sns.scatterplot(data = df, x='Date', y=item , hue = 'Min Wage Inc')\n",
    "    plt.show()"
   ]
  },
  {
   "cell_type": "markdown",
   "metadata": {},
   "source": [
    "I'm going to stick to 4 specific variables for the later A/B test, so I can now drop some columns from the dataframe"
   ]
  },
  {
   "cell_type": "code",
   "execution_count": 24,
   "metadata": {},
   "outputs": [
    {
     "data": {
      "text/html": [
       "<div>\n",
       "<style scoped>\n",
       "    .dataframe tbody tr th:only-of-type {\n",
       "        vertical-align: middle;\n",
       "    }\n",
       "\n",
       "    .dataframe tbody tr th {\n",
       "        vertical-align: top;\n",
       "    }\n",
       "\n",
       "    .dataframe thead th {\n",
       "        text-align: right;\n",
       "    }\n",
       "</style>\n",
       "<table border=\"1\" class=\"dataframe\">\n",
       "  <thead>\n",
       "    <tr style=\"text-align: right;\">\n",
       "      <th></th>\n",
       "      <th>Date</th>\n",
       "      <th>CPI % increase</th>\n",
       "      <th>GDP % increase</th>\n",
       "      <th>Med inc % increase</th>\n",
       "      <th>Unemployment Change</th>\n",
       "      <th>Min Wage Inc</th>\n",
       "    </tr>\n",
       "  </thead>\n",
       "  <tbody>\n",
       "    <tr>\n",
       "      <th>0</th>\n",
       "      <td>1969-01-01</td>\n",
       "      <td>0.017047</td>\n",
       "      <td>0.013553</td>\n",
       "      <td>NaN</td>\n",
       "      <td>0.0</td>\n",
       "      <td>no increase</td>\n",
       "    </tr>\n",
       "    <tr>\n",
       "      <th>1</th>\n",
       "      <td>1969-04-01</td>\n",
       "      <td>0.013788</td>\n",
       "      <td>0.000779</td>\n",
       "      <td>NaN</td>\n",
       "      <td>0.1</td>\n",
       "      <td>no increase</td>\n",
       "    </tr>\n",
       "    <tr>\n",
       "      <th>2</th>\n",
       "      <td>1969-07-01</td>\n",
       "      <td>0.013600</td>\n",
       "      <td>0.003771</td>\n",
       "      <td>NaN</td>\n",
       "      <td>0.2</td>\n",
       "      <td>no increase</td>\n",
       "    </tr>\n",
       "    <tr>\n",
       "      <th>3</th>\n",
       "      <td>1969-10-01</td>\n",
       "      <td>0.016311</td>\n",
       "      <td>-0.007799</td>\n",
       "      <td>NaN</td>\n",
       "      <td>-0.2</td>\n",
       "      <td>no increase</td>\n",
       "    </tr>\n",
       "    <tr>\n",
       "      <th>4</th>\n",
       "      <td>1970-01-01</td>\n",
       "      <td>0.013202</td>\n",
       "      <td>-0.003951</td>\n",
       "      <td>NaN</td>\n",
       "      <td>0.9</td>\n",
       "      <td>no increase</td>\n",
       "    </tr>\n",
       "    <tr>\n",
       "      <th>...</th>\n",
       "      <td>...</td>\n",
       "      <td>...</td>\n",
       "      <td>...</td>\n",
       "      <td>...</td>\n",
       "      <td>...</td>\n",
       "      <td>...</td>\n",
       "    </tr>\n",
       "    <tr>\n",
       "      <th>200</th>\n",
       "      <td>2019-01-01</td>\n",
       "      <td>0.011810</td>\n",
       "      <td>0.005005</td>\n",
       "      <td>0.011672</td>\n",
       "      <td>-0.1</td>\n",
       "      <td>no increase</td>\n",
       "    </tr>\n",
       "    <tr>\n",
       "      <th>201</th>\n",
       "      <td>2019-04-01</td>\n",
       "      <td>0.007641</td>\n",
       "      <td>0.006860</td>\n",
       "      <td>-0.004262</td>\n",
       "      <td>-0.2</td>\n",
       "      <td>no increase</td>\n",
       "    </tr>\n",
       "    <tr>\n",
       "      <th>202</th>\n",
       "      <td>2019-07-01</td>\n",
       "      <td>0.002401</td>\n",
       "      <td>0.005447</td>\n",
       "      <td>-0.004280</td>\n",
       "      <td>-0.1</td>\n",
       "      <td>no increase</td>\n",
       "    </tr>\n",
       "    <tr>\n",
       "      <th>203</th>\n",
       "      <td>2019-10-01</td>\n",
       "      <td>0.000836</td>\n",
       "      <td>0.003302</td>\n",
       "      <td>-0.004299</td>\n",
       "      <td>0.1</td>\n",
       "      <td>no increase</td>\n",
       "    </tr>\n",
       "    <tr>\n",
       "      <th>204</th>\n",
       "      <td>2020-01-01</td>\n",
       "      <td>0.004444</td>\n",
       "      <td>-0.014074</td>\n",
       "      <td>-0.004317</td>\n",
       "      <td>0.8</td>\n",
       "      <td>no increase</td>\n",
       "    </tr>\n",
       "  </tbody>\n",
       "</table>\n",
       "<p>205 rows × 6 columns</p>\n",
       "</div>"
      ],
      "text/plain": [
       "          Date  CPI % increase  GDP % increase  Med inc % increase  \\\n",
       "0   1969-01-01        0.017047        0.013553                 NaN   \n",
       "1   1969-04-01        0.013788        0.000779                 NaN   \n",
       "2   1969-07-01        0.013600        0.003771                 NaN   \n",
       "3   1969-10-01        0.016311       -0.007799                 NaN   \n",
       "4   1970-01-01        0.013202       -0.003951                 NaN   \n",
       "..         ...             ...             ...                 ...   \n",
       "200 2019-01-01        0.011810        0.005005            0.011672   \n",
       "201 2019-04-01        0.007641        0.006860           -0.004262   \n",
       "202 2019-07-01        0.002401        0.005447           -0.004280   \n",
       "203 2019-10-01        0.000836        0.003302           -0.004299   \n",
       "204 2020-01-01        0.004444       -0.014074           -0.004317   \n",
       "\n",
       "     Unemployment Change Min Wage Inc  \n",
       "0                    0.0  no increase  \n",
       "1                    0.1  no increase  \n",
       "2                    0.2  no increase  \n",
       "3                   -0.2  no increase  \n",
       "4                    0.9  no increase  \n",
       "..                   ...          ...  \n",
       "200                 -0.1  no increase  \n",
       "201                 -0.2  no increase  \n",
       "202                 -0.1  no increase  \n",
       "203                  0.1  no increase  \n",
       "204                  0.8  no increase  \n",
       "\n",
       "[205 rows x 6 columns]"
      ]
     },
     "execution_count": 24,
     "metadata": {},
     "output_type": "execute_result"
    }
   ],
   "source": [
    "df = df.drop(columns = ['Min Wage', 'CPI', 'Unemployment Rate', 'Per Capita GDP', 'Labor Force Participation', 'Median Income'])\n",
    "df"
   ]
  },
  {
   "cell_type": "code",
   "execution_count": 25,
   "metadata": {},
   "outputs": [
    {
     "data": {
      "text/html": [
       "<div>\n",
       "<style scoped>\n",
       "    .dataframe tbody tr th:only-of-type {\n",
       "        vertical-align: middle;\n",
       "    }\n",
       "\n",
       "    .dataframe tbody tr th {\n",
       "        vertical-align: top;\n",
       "    }\n",
       "\n",
       "    .dataframe thead th {\n",
       "        text-align: right;\n",
       "    }\n",
       "</style>\n",
       "<table border=\"1\" class=\"dataframe\">\n",
       "  <thead>\n",
       "    <tr style=\"text-align: right;\">\n",
       "      <th></th>\n",
       "      <th>CPI % increase</th>\n",
       "      <th>GDP % increase</th>\n",
       "      <th>Med inc % increase</th>\n",
       "      <th>Unemployment Change</th>\n",
       "    </tr>\n",
       "    <tr>\n",
       "      <th>Min Wage Inc</th>\n",
       "      <th></th>\n",
       "      <th></th>\n",
       "      <th></th>\n",
       "      <th></th>\n",
       "    </tr>\n",
       "  </thead>\n",
       "  <tbody>\n",
       "    <tr>\n",
       "      <th>increase</th>\n",
       "      <td>0.014406</td>\n",
       "      <td>0.001848</td>\n",
       "      <td>-0.001491</td>\n",
       "      <td>0.205556</td>\n",
       "    </tr>\n",
       "    <tr>\n",
       "      <th>no increase</th>\n",
       "      <td>0.008114</td>\n",
       "      <td>0.005167</td>\n",
       "      <td>0.003305</td>\n",
       "      <td>-0.066887</td>\n",
       "    </tr>\n",
       "  </tbody>\n",
       "</table>\n",
       "</div>"
      ],
      "text/plain": [
       "              CPI % increase  GDP % increase  Med inc % increase  \\\n",
       "Min Wage Inc                                                       \n",
       "increase            0.014406        0.001848           -0.001491   \n",
       "no increase         0.008114        0.005167            0.003305   \n",
       "\n",
       "              Unemployment Change  \n",
       "Min Wage Inc                       \n",
       "increase                 0.205556  \n",
       "no increase             -0.066887  "
      ]
     },
     "execution_count": 25,
     "metadata": {},
     "output_type": "execute_result"
    }
   ],
   "source": [
    "df.groupby('Min Wage Inc').mean()"
   ]
  },
  {
   "cell_type": "code",
   "execution_count": 26,
   "metadata": {
    "scrolled": true
   },
   "outputs": [
    {
     "data": {
      "image/png": "[encoded data removed]",
      "text/plain": [
       "<Figure size 432x288 with 1 Axes>"
      ]
     },
     "metadata": {
      "needs_background": "light"
     },
     "output_type": "display_data"
    }
   ],
   "source": [
    "increase = df[df['Min Wage Inc'] == 'increase']\n",
    "no_increase = df[df['Min Wage Inc'] == 'no increase']\n",
    "\n",
    "plt.boxplot([no_increase['CPI % increase'], increase['CPI % increase']])\n",
    "plt.ylabel('CPI % Change')\n",
    "plt.xticks([1, 2], ['No Increase', 'Yes Increase'])\n",
    "plt.show()"
   ]
  },
  {
   "cell_type": "code",
   "execution_count": 27,
   "metadata": {},
   "outputs": [
    {
     "data": {
      "image/png": "[encoded data removed]",
      "text/plain": [
       "<Figure size 432x288 with 1 Axes>"
      ]
     },
     "metadata": {
      "needs_background": "light"
     },
     "output_type": "display_data"
    }
   ],
   "source": [
    "plt.boxplot([no_increase['Unemployment Change'], increase['Unemployment Change']])\n",
    "plt.ylabel('Unemployment Change')\n",
    "plt.xticks([1, 2], ['No Increase', 'Yes Increase'])\n",
    "plt.show()"
   ]
  },
  {
   "cell_type": "code",
   "execution_count": 28,
   "metadata": {},
   "outputs": [
    {
     "data": {
      "image/png": "[encoded data removed]",
      "text/plain": [
       "<Figure size 432x288 with 1 Axes>"
      ]
     },
     "metadata": {
      "needs_background": "light"
     },
     "output_type": "display_data"
    }
   ],
   "source": [
    "plt.boxplot([no_increase['GDP % increase'], increase['GDP % increase']])\n",
    "plt.ylabel('GDP % Change')\n",
    "plt.xticks([1, 2], ['No Increase', 'Yes Increase'])\n",
    "plt.show()"
   ]
  },
  {
   "cell_type": "code",
   "execution_count": 29,
   "metadata": {},
   "outputs": [
    {
     "data": {
      "image/png": "[encoded data removed]",
      "text/plain": [
       "<Figure size 432x288 with 1 Axes>"
      ]
     },
     "metadata": {
      "needs_background": "light"
     },
     "output_type": "display_data"
    }
   ],
   "source": [
    "#Have to Filter the NaN's out for Median income\n",
    "\n",
    "filt_no_inc = no_increase[~np.isnan(no_increase['Med inc % increase'])]\n",
    "filt_inc = increase[~np.isnan(increase['Med inc % increase'])]\n",
    "plt.boxplot([filt_no_inc['Med inc % increase'], filt_inc['Med inc % increase']])\n",
    "plt.ylabel('Median Income % Change')\n",
    "plt.xticks([1, 2], ['No Increase', 'Yes Increase'])\n",
    "plt.show()"
   ]
  },
  {
   "cell_type": "markdown",
   "metadata": {},
   "source": [
    "The Average of each economic indicator is a little bit \"worse\" # when taken from periods during and after minimum wage changes. For GDP and Median Income, there appears to be slightly less growth during min wage increase years.  The CPI appears to increase slightly more following increases.  Most notably, the Unemployment rate appears to show the largest difference.  In the years of minimum wage increases, we show unemployment #'s averaging an **increase** of 0.2, as compared to slight **decrease** of around 0.06 in other years.\n",
    "\n",
    "The next step will be to determine if the difference in these #'s is large enough to consider the minimum wage a clear determinant of these changes."
   ]
  },
  {
   "cell_type": "markdown",
   "metadata": {},
   "source": [
    "I need to figure out how the data is distributed...."
   ]
  },
  {
   "cell_type": "code",
   "execution_count": 30,
   "metadata": {},
   "outputs": [
    {
     "data": {
      "image/png": "[encoded data removed]",
      "text/plain": [
       "<Figure size 864x432 with 2 Axes>"
      ]
     },
     "metadata": {
      "needs_background": "light"
     },
     "output_type": "display_data"
    },
    {
     "data": {
      "image/png": "[encoded data removed]",
      "text/plain": [
       "<Figure size 864x432 with 2 Axes>"
      ]
     },
     "metadata": {
      "needs_background": "light"
     },
     "output_type": "display_data"
    },
    {
     "data": {
      "image/png": "[encoded data removed]",
      "text/plain": [
       "<Figure size 864x432 with 2 Axes>"
      ]
     },
     "metadata": {
      "needs_background": "light"
     },
     "output_type": "display_data"
    },
    {
     "data": {
      "image/png": "[encoded data removed]",
      "text/plain": [
       "<Figure size 864x432 with 2 Axes>"
      ]
     },
     "metadata": {
      "needs_background": "light"
     },
     "output_type": "display_data"
    }
   ],
   "source": [
    "for item in change_cols:\n",
    "    fig, ax = plt.subplots(1, 2, figsize=(12, 6))\n",
    "    fig.subplots_adjust(hspace=.4)\n",
    "    ax[0].hist(no_increase[item], bins=20)\n",
    "    ax[0].set_xlabel(item)\n",
    "    ax[0].set_title(\"No Min Wage Increase\")\n",
    "    ax[1].hist(increase[item], bins=20)\n",
    "    ax[1].set_xlabel(item)\n",
    "    ax[1].set_title(\"Min Wage Increase Period\")\n",
    "    plt.show()"
   ]
  },
  {
   "cell_type": "markdown",
   "metadata": {},
   "source": [
    "The Plots give us an idea of distribution, but we need to run a stats.normal test to determine if our distributions are normal.  A P-Value below .05 indicates we can assume that that specific dataset is likely <b>not</b> normally distributed."
   ]
  },
  {
   "cell_type": "code",
   "execution_count": 31,
   "metadata": {},
   "outputs": [
    {
     "name": "stdout",
     "output_type": "stream",
     "text": [
      "NormaltestResult(statistic=2.706973295902903, pvalue=0.2583379550472494)\n",
      "NormaltestResult(statistic=17.150497094320333, pvalue=0.0001887195424875433)\n"
     ]
    }
   ],
   "source": [
    "normal = stats.normaltest(no_increase['CPI % increase'])\n",
    "print(normal)\n",
    "\n",
    "normal = stats.normaltest(increase['CPI % increase'])\n",
    "print(normal)"
   ]
  },
  {
   "cell_type": "code",
   "execution_count": 32,
   "metadata": {},
   "outputs": [
    {
     "name": "stdout",
     "output_type": "stream",
     "text": [
      "NormaltestResult(statistic=17.012346597995634, pvalue=0.00020221616701754058)\n",
      "NormaltestResult(statistic=11.555905138249422, pvalue=0.00309504581785522)\n"
     ]
    }
   ],
   "source": [
    "normal = stats.normaltest(no_increase['Unemployment Change'])\n",
    "print(normal)\n",
    "\n",
    "normal = stats.normaltest(increase['Unemployment Change'])\n",
    "print(normal)"
   ]
  },
  {
   "cell_type": "code",
   "execution_count": 33,
   "metadata": {},
   "outputs": [
    {
     "name": "stdout",
     "output_type": "stream",
     "text": [
      "NormaltestResult(statistic=7.72729556890979, pvalue=0.020991288000497658)\n",
      "NormaltestResult(statistic=4.342229574861441, pvalue=0.11405040405945302)\n"
     ]
    }
   ],
   "source": [
    "normal = stats.normaltest(no_increase['GDP % increase'])\n",
    "print(normal)\n",
    "\n",
    "normal = stats.normaltest(increase['GDP % increase'])\n",
    "print(normal)\n"
   ]
  },
  {
   "cell_type": "code",
   "execution_count": 34,
   "metadata": {},
   "outputs": [
    {
     "name": "stdout",
     "output_type": "stream",
     "text": [
      "NormaltestResult(statistic=0.1326433991432308, pvalue=0.9358297598287855)\n",
      "NormaltestResult(statistic=13.66170481424139, pvalue=0.0010799371790104827)\n"
     ]
    }
   ],
   "source": [
    "normal = stats.normaltest(filt_no_inc['Med inc % increase'])\n",
    "print(normal)\n",
    "\n",
    "normal = stats.normaltest(filt_inc['Med inc % increase'])\n",
    "print(normal)\n",
    "\n"
   ]
  },
  {
   "cell_type": "markdown",
   "metadata": {},
   "source": [
    "In a couple of cases, one of the data sets appears to have a normal distribution, but only one.  Because of this, I will proceed without assuming normal distributions"
   ]
  },
  {
   "cell_type": "markdown",
   "metadata": {},
   "source": [
    "# Outline of my method:\n",
    "\n",
    "For testing purposes, We'll assume the null hypothesis that whether a quarter falls within a year of a minimum wage increase has no impact on the main economic indicators of GDP, CPI, unemployment, and median income. \n",
    "\n",
    "Given this prediction, if we were to shuffle all of our quarters in to 2 random sets, we should be able to get a similar difference in the means of each indicator as we got when averaging quarters during increases against those not following minimum wage increases. \n",
    "\n",
    "Currently, we show higher unemployment change and CPI increases during our quarters following mimimum wage increases, and higher GDP and median income growth during quarters when there has been no recent increase.\n",
    "\n",
    "The more we continue to shuffle and randomize the 2 sets we are comparing, the better indication of how likely it would be to receive our initial results, given the null hypothesis. After running multiple permutations, we will take a mean of the difference of means found during each permutation, which will serve as a primary indicator of whether our hypothesis is correct or not.\n",
    "\n",
    "If the observed difference for each indicator looks just like the permutation difference, it would appear that the hypothesis that minimum wage raises have no significant effect on that economic indicator is true. However, if our permutation difference varies from our originally found difference of means, we may be able to consider that minimum wage raises do, in fact, have a statistically significant effect on that specific indicator."
   ]
  },
  {
   "cell_type": "markdown",
   "metadata": {},
   "source": [
    "## Null Hypothesis\n",
    "\n",
    "**H<sub>null</sub>**: the difference in means of all observed variables between periods of minimum wage increase and periods without minimum wage increase is due to random occurence, and not due to any effect caused my a federal minimum wage increase.\n",
    "\n",
    "**H<sub>alternative</sub>**: the observed difference in the means of each dependent variable must be due to the impact of raising the federal minimum wage.\n",
    "\n",
    "Using a **significance level** of 0.005. "
   ]
  },
  {
   "cell_type": "code",
   "execution_count": 35,
   "metadata": {},
   "outputs": [
    {
     "data": {
      "text/html": [
       "<div>\n",
       "<style scoped>\n",
       "    .dataframe tbody tr th:only-of-type {\n",
       "        vertical-align: middle;\n",
       "    }\n",
       "\n",
       "    .dataframe tbody tr th {\n",
       "        vertical-align: top;\n",
       "    }\n",
       "\n",
       "    .dataframe thead th {\n",
       "        text-align: right;\n",
       "    }\n",
       "</style>\n",
       "<table border=\"1\" class=\"dataframe\">\n",
       "  <thead>\n",
       "    <tr style=\"text-align: right;\">\n",
       "      <th></th>\n",
       "      <th>CPI % increase</th>\n",
       "      <th>GDP % increase</th>\n",
       "      <th>Med inc % increase</th>\n",
       "      <th>Unemployment Change</th>\n",
       "      <th>Permutation_cpi</th>\n",
       "      <th>Permutation_gdp</th>\n",
       "      <th>Permutation_unemp</th>\n",
       "      <th>Permutation_medinc</th>\n",
       "    </tr>\n",
       "    <tr>\n",
       "      <th>Min Wage Inc</th>\n",
       "      <th></th>\n",
       "      <th></th>\n",
       "      <th></th>\n",
       "      <th></th>\n",
       "      <th></th>\n",
       "      <th></th>\n",
       "      <th></th>\n",
       "      <th></th>\n",
       "    </tr>\n",
       "  </thead>\n",
       "  <tbody>\n",
       "    <tr>\n",
       "      <th>increase</th>\n",
       "      <td>0.014406</td>\n",
       "      <td>0.001848</td>\n",
       "      <td>-0.001491</td>\n",
       "      <td>0.205556</td>\n",
       "      <td>0.008939</td>\n",
       "      <td>0.004453</td>\n",
       "      <td>-0.024074</td>\n",
       "      <td>0.002477</td>\n",
       "    </tr>\n",
       "    <tr>\n",
       "      <th>no increase</th>\n",
       "      <td>0.008114</td>\n",
       "      <td>0.005167</td>\n",
       "      <td>0.003305</td>\n",
       "      <td>-0.066887</td>\n",
       "      <td>0.010069</td>\n",
       "      <td>0.004236</td>\n",
       "      <td>0.015232</td>\n",
       "      <td>0.001675</td>\n",
       "    </tr>\n",
       "  </tbody>\n",
       "</table>\n",
       "</div>"
      ],
      "text/plain": [
       "              CPI % increase  GDP % increase  Med inc % increase  \\\n",
       "Min Wage Inc                                                       \n",
       "increase            0.014406        0.001848           -0.001491   \n",
       "no increase         0.008114        0.005167            0.003305   \n",
       "\n",
       "              Unemployment Change  Permutation_cpi  Permutation_gdp  \\\n",
       "Min Wage Inc                                                          \n",
       "increase                 0.205556         0.008939         0.004453   \n",
       "no increase             -0.066887         0.010069         0.004236   \n",
       "\n",
       "              Permutation_unemp  Permutation_medinc  \n",
       "Min Wage Inc                                         \n",
       "increase              -0.024074            0.002477  \n",
       "no increase            0.015232            0.001675  "
      ]
     },
     "execution_count": 35,
     "metadata": {},
     "output_type": "execute_result"
    }
   ],
   "source": [
    "df['Permutation_cpi'] = np.random.permutation(df['CPI % increase'])\n",
    "df['Permutation_gdp'] = np.random.permutation(df['GDP % increase'])\n",
    "df['Permutation_unemp'] = np.random.permutation(df['Unemployment Change'])\n",
    "df['Permutation_medinc'] = np.random.permutation(df['Med inc % increase'])\n",
    "df.groupby('Min Wage Inc').mean()"
   ]
  },
  {
   "cell_type": "markdown",
   "metadata": {},
   "source": [
    "For all of our variables, the observed differences of means in the permutations are much smaller than the observed difference of means in our 2 datasets.  If I now repeat this several times on each variable, we should get a idea of whether our original observed difference in means could truly be considered random.\n",
    "\n",
    "I'll start with the CPI variable, and move on to the other variables one by one."
   ]
  },
  {
   "cell_type": "code",
   "execution_count": 36,
   "metadata": {},
   "outputs": [],
   "source": [
    "np.random.seed(42)\n",
    "difference = np.empty(10000)\n",
    "for i in range(10000):\n",
    "    df['Permutation_cpi'] = np.random.permutation(df['CPI % increase'])\n",
    "    diff = np.mean(df.Permutation_cpi[df['Min Wage Inc'] == 'increase']) - np.mean(df.Permutation_cpi[df['Min Wage Inc'] == 'no increase'])\n",
    "    difference[i] = diff"
   ]
  },
  {
   "cell_type": "code",
   "execution_count": 37,
   "metadata": {},
   "outputs": [
    {
     "data": {
      "image/png": "[encoded data removed]",
      "text/plain": [
       "<Figure size 432x288 with 1 Axes>"
      ]
     },
     "metadata": {
      "needs_background": "light"
     },
     "output_type": "display_data"
    }
   ],
   "source": [
    "plt.hist(difference)\n",
    "plt.show()"
   ]
  },
  {
   "cell_type": "code",
   "execution_count": 38,
   "metadata": {},
   "outputs": [
    {
     "data": {
      "text/plain": [
       "0.006292810137013835"
      ]
     },
     "execution_count": 38,
     "metadata": {},
     "output_type": "execute_result"
    }
   ],
   "source": [
    "obs_diff = abs(np.mean(increase['CPI % increase']) - np.mean(no_increase['CPI % increase']))\n",
    "obs_diff"
   ]
  },
  {
   "cell_type": "code",
   "execution_count": 39,
   "metadata": {
    "scrolled": true
   },
   "outputs": [
    {
     "name": "stdout",
     "output_type": "stream",
     "text": [
      "P-Value is 0.0\n"
     ]
    }
   ],
   "source": [
    "p = np.sum(difference >= obs_diff)/len(difference)\n",
    "print('P-Value is', p)"
   ]
  },
  {
   "cell_type": "markdown",
   "metadata": {},
   "source": [
    "NONE of the 10,000 permutations result in as large a difference in means as our original observed difference.  For CPI % increases, we can say with certainty that the larger increases found during minimum wage increases are NOT due to random chance, and therefore must be due to the affect of federal minimum wage hikes."
   ]
  },
  {
   "cell_type": "code",
   "execution_count": 40,
   "metadata": {},
   "outputs": [],
   "source": [
    "difference = np.empty(10000)\n",
    "for i in range(10000):\n",
    "    df['Permutation_gdp'] = np.random.permutation(df['GDP % increase'])\n",
    "    diff = np.mean(df.Permutation_gdp[df['Min Wage Inc'] == 'increase']) - np.mean(df.Permutation_gdp[df['Min Wage Inc'] == 'no increase'])\n",
    "    difference[i] = diff"
   ]
  },
  {
   "cell_type": "code",
   "execution_count": 41,
   "metadata": {},
   "outputs": [
    {
     "data": {
      "image/png": "[encoded data removed]",
      "text/plain": [
       "<Figure size 432x288 with 1 Axes>"
      ]
     },
     "metadata": {
      "needs_background": "light"
     },
     "output_type": "display_data"
    }
   ],
   "source": [
    "plt.hist(difference)\n",
    "plt.show()"
   ]
  },
  {
   "cell_type": "code",
   "execution_count": 42,
   "metadata": {},
   "outputs": [
    {
     "data": {
      "text/plain": [
       "0.003319051726304063"
      ]
     },
     "execution_count": 42,
     "metadata": {},
     "output_type": "execute_result"
    }
   ],
   "source": [
    "obs_diff = abs(np.mean(increase['GDP % increase']) - np.mean(no_increase['GDP % increase']))\n",
    "obs_diff"
   ]
  },
  {
   "cell_type": "code",
   "execution_count": 43,
   "metadata": {
    "scrolled": true
   },
   "outputs": [
    {
     "name": "stdout",
     "output_type": "stream",
     "text": [
      "P-Value is 0.0034\n"
     ]
    }
   ],
   "source": [
    "p = np.sum(difference >= obs_diff)/len(difference)\n",
    "print('P-Value is', p)"
   ]
  },
  {
   "cell_type": "markdown",
   "metadata": {},
   "source": [
    "For GDP % increase, we have a higher P-Value, but it is still less than 0.005."
   ]
  },
  {
   "cell_type": "code",
   "execution_count": 44,
   "metadata": {},
   "outputs": [],
   "source": [
    "difference = np.empty(10000)\n",
    "for i in range(10000):\n",
    "    df['Permutation_unemp'] = np.random.permutation(df['Unemployment Change'])\n",
    "    diff = np.mean(df.Permutation_unemp[df['Min Wage Inc'] == 'increase']) - np.mean(df.Permutation_unemp[df['Min Wage Inc'] == 'no increase'])\n",
    "    difference[i] = diff"
   ]
  },
  {
   "cell_type": "code",
   "execution_count": 45,
   "metadata": {},
   "outputs": [
    {
     "data": {
      "image/png": "[encoded data removed]",
      "text/plain": [
       "<Figure size 432x288 with 1 Axes>"
      ]
     },
     "metadata": {
      "needs_background": "light"
     },
     "output_type": "display_data"
    }
   ],
   "source": [
    "plt.hist(difference)\n",
    "plt.show()"
   ]
  },
  {
   "cell_type": "code",
   "execution_count": 46,
   "metadata": {},
   "outputs": [
    {
     "data": {
      "text/plain": [
       "0.2724429727740986"
      ]
     },
     "execution_count": 46,
     "metadata": {},
     "output_type": "execute_result"
    }
   ],
   "source": [
    "obs_diff = abs(np.mean(increase['Unemployment Change']) - np.mean(no_increase['Unemployment Change']))\n",
    "obs_diff"
   ]
  },
  {
   "cell_type": "code",
   "execution_count": 47,
   "metadata": {
    "scrolled": true
   },
   "outputs": [
    {
     "name": "stdout",
     "output_type": "stream",
     "text": [
      "P-Value is 0.0\n"
     ]
    }
   ],
   "source": [
    "p = np.sum(difference >= obs_diff)/len(difference)\n",
    "print('P-Value is', p)"
   ]
  },
  {
   "cell_type": "code",
   "execution_count": 48,
   "metadata": {},
   "outputs": [
    {
     "data": {
      "text/plain": [
       "0.23473142016188375"
      ]
     },
     "execution_count": 48,
     "metadata": {},
     "output_type": "execute_result"
    }
   ],
   "source": [
    "difference.max()"
   ]
  },
  {
   "cell_type": "markdown",
   "metadata": {},
   "source": [
    "For Unemployment rate change, not only were none of the permutation mean differences as large as the observed mean, none of them came particularly close.  Our most extreme mean differences from the permutation samples were around 0.23, while our true observed difference was 0.27.  This leaves pretty much no doubt that minimum wage increases definitely due lead to slightly higher unemployment #'s."
   ]
  },
  {
   "cell_type": "code",
   "execution_count": 49,
   "metadata": {},
   "outputs": [],
   "source": [
    "difference = np.empty(10000)\n",
    "for i in range(10000):\n",
    "    df['Permutation_medinc'] = np.random.permutation(df['Med inc % increase'])\n",
    "    diff = np.mean(df.Permutation_medinc[df['Min Wage Inc'] == 'increase']) - np.mean(df.Permutation_medinc[df['Min Wage Inc'] == 'no increase'])\n",
    "    difference[i] = diff"
   ]
  },
  {
   "cell_type": "code",
   "execution_count": 50,
   "metadata": {},
   "outputs": [
    {
     "data": {
      "image/png": "[encoded data removed]",
      "text/plain": [
       "<Figure size 432x288 with 1 Axes>"
      ]
     },
     "metadata": {
      "needs_background": "light"
     },
     "output_type": "display_data"
    }
   ],
   "source": [
    "plt.hist(difference)\n",
    "plt.show()"
   ]
  },
  {
   "cell_type": "code",
   "execution_count": 51,
   "metadata": {},
   "outputs": [
    {
     "data": {
      "text/plain": [
       "0.004796310132646383"
      ]
     },
     "execution_count": 51,
     "metadata": {},
     "output_type": "execute_result"
    }
   ],
   "source": [
    "obs_diff = abs(np.mean(increase['Med inc % increase']) - np.mean(no_increase['Med inc % increase']))\n",
    "obs_diff"
   ]
  },
  {
   "cell_type": "code",
   "execution_count": 52,
   "metadata": {
    "scrolled": true
   },
   "outputs": [
    {
     "name": "stdout",
     "output_type": "stream",
     "text": [
      "P-Value is 0.0\n"
     ]
    }
   ],
   "source": [
    "p = np.sum(difference >= obs_diff)/len(difference)\n",
    "print('P-Value is', p)"
   ]
  },
  {
   "cell_type": "markdown",
   "metadata": {},
   "source": [
    "On Median Income change, we also see no permutation mean differences as large as our observed difference.  This means that we can REJECT the Null Hypothesis when it comes to all 4 variables.  None of our observed differences can be attributed to random occurence or chance."
   ]
  }
 ],
 "metadata": {
  "kernelspec": {
   "display_name": "Python 3",
   "language": "python",
   "name": "python3"
  },
  "language_info": {
   "codemirror_mode": {
    "name": "ipython",
    "version": 3
   },
   "file_extension": ".py",
   "mimetype": "text/x-python",
   "name": "python",
   "nbconvert_exporter": "python",
   "pygments_lexer": "ipython3",
   "version": "3.8.5"
  }
 },
 "nbformat": 4,
 "nbformat_minor": 4
}
